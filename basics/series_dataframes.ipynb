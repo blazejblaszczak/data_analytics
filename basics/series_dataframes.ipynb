{
 "cells": [
  {
   "cell_type": "code",
   "execution_count": 0,
   "metadata": {
    "colab": {},
    "colab_type": "code",
    "id": "MEN0uNZ9soUd"
   },
   "outputs": [],
   "source": [
    "import pandas as pd\n",
    "import numpy as np"
   ]
  },
  {
   "cell_type": "code",
   "execution_count": 0,
   "metadata": {
    "colab": {
     "base_uri": "https://localhost:8080/",
     "height": 84
    },
    "colab_type": "code",
    "id": "xlQ1p_rb7OQZ",
    "outputId": "82087368-af45-470f-d20e-40df233a217f"
   },
   "outputs": [
    {
     "name": "stdout",
     "output_type": "stream",
     "text": [
      "0    1.0\n",
      "1    2.0\n",
      "2    3.0\n",
      "dtype: float32\n"
     ]
    }
   ],
   "source": [
    "# 3. Creating Series from Python Lists\n",
    "series = pd.Series([4,5,6]) # int64\n",
    "series = pd.Series([4.0,5.0,6.0,7.0]) # float64\n",
    "series = pd.Series([True,False,True]) # bool\n",
    "series = pd.Series(['1','2','3']) # object\n",
    "series = pd.Series([1,2,3.0,4.0,'Blaise']) # object because of the string\n",
    "series = pd.Series([1,2,3.0,4.0,]) # float64 because of the floats\n",
    "series = pd.Series([1,3.0,None,np.nan]) # float64, None becomes NaN because of the float\n",
    "series = pd.Series([1,3.0,None,np.nan,'Blaise']) # object because of the string\n",
    "series = pd.Series([1,2,3],dtype=np.float32) # forcing values to become float32\n",
    "print(series)"
   ]
  },
  {
   "cell_type": "code",
   "execution_count": 0,
   "metadata": {
    "colab": {
     "base_uri": "https://localhost:8080/",
     "height": 67
    },
    "colab_type": "code",
    "id": "3Np_AZ1N-hGA",
    "outputId": "aba5b72e-53c1-4b72-be12-c77dce324772"
   },
   "outputs": [
    {
     "name": "stdout",
     "output_type": "stream",
     "text": [
      "<class 'pandas.core.series.Series'>\n",
      "<class 'numpy.ndarray'>\n",
      "[1 2 3]\n"
     ]
    }
   ],
   "source": [
    "# 4. Creating Series from dictionaries, lists with indexes, and numpy arrays\n",
    "series = pd.Series({'a':1,'b':2,'c':3}) # int64 with a,b,c labels\n",
    "series = pd.Series({'a':True,'b':False,'c':False}) # bool with a,b,c labels\n",
    "series = pd.Series({'a':1.0,'b':2.0,'c':np.nan}) # float64 with a,b,c labels\n",
    "series = pd.Series({'a':'1','b':'2','c':'3'}) # object with a,b,c labels\n",
    "series = pd.Series([1,2,3], index=['a','b','c']) # int64 with a,b,c labels\n",
    "series = pd.Series(10, index=[0,1,2,3,4]) # series with 5 x 10s and 0,1,2,3,4 labels\n",
    "series = pd.Series(10, index=['a','b','c','d','e']) # series with 5 x 10s and a,b,c,d,e labels\n",
    "# Numpy\n",
    "series = pd.Series(np.array([1,2,3]))\n",
    "numpy_series = series.to_numpy() # converts series to a numpy array\n",
    "nump_series = np.asarray(series) # converts series to a numpy array (same as above)\n",
    "print(type(series))  # Pandas Series\n",
    "print(type(numpy_series)) # Numpy array\n",
    "print(numpy_series)"
   ]
  },
  {
   "cell_type": "code",
   "execution_count": 0,
   "metadata": {
    "colab": {
     "base_uri": "https://localhost:8080/",
     "height": 118
    },
    "colab_type": "code",
    "id": "teIubvn1B_JI",
    "outputId": "fccce0fa-952d-40a0-f0ab-a4d0785b1912"
   },
   "outputs": [
    {
     "name": "stdout",
     "output_type": "stream",
     "text": [
      "0    2020\n",
      "1    2020\n",
      "2    2020\n",
      "3    2020\n",
      "4    2020\n",
      "dtype: int64\n"
     ]
    }
   ],
   "source": [
    "# 5. Date ranges and DateTime dtype\n",
    "dates = pd.date_range('20200301',periods=10) # 10 days starting on March 1, 2020\n",
    "dates = pd.date_range('20200301',periods=10,freq='4H') # 10 periods spread 4 hours apart starting on March 1, 2020\n",
    "dates = pd.date_range('20200301','20200302',freq='4H') # n Periods spread 4 hours apart starting on March 1, 2020 and ending on March 2, 2020\n",
    "dates = pd.date_range('20200301','20200302',periods=10) # 10 Periods starting on March 1, 2020 and ending on March 2, 2020\n",
    "\n",
    "dates = pd.date_range('20200301',periods=5)\n",
    "series = pd.Series([1,2,3,4,5], index=dates) # Values 1,2,3,4,5 but using dates as indexes\n",
    "\n",
    "date_series = pd.Series(dates) # Date range as a Series\n",
    "days = date_series.dt.year # Series of just the years from the date range above"
   ]
  },
  {
   "cell_type": "code",
   "execution_count": 0,
   "metadata": {
    "colab": {
     "base_uri": "https://localhost:8080/",
     "height": 34
    },
    "colab_type": "code",
    "id": "r4IHIwNnVs_5",
    "outputId": "bc9803a9-07de-4819-cc5b-0d708a138218"
   },
   "outputs": [
    {
     "name": "stdout",
     "output_type": "stream",
     "text": [
      "0\n"
     ]
    }
   ],
   "source": [
    "# 6. Getting single elements from Series\n",
    "series = pd.Series([1,2,3,4,5], index=['a','b','c','d','e'])\n",
    "\n",
    "first = series[0] # Returns 1\n",
    "first = series['a'] # Returns 1\n",
    "last = series[4] # Returns 5\n",
    "last = series['e'] # Returns 5\n",
    "# last = series[-1:] # Returns Series containing 'e':5\n",
    "\n",
    "# tenth = series[9] # Throws error, index does not exist\n",
    "# tenth = series['j'] # Throws error, index does not exist\n",
    "tenth = series.get(9) # Returns None, does not throw error\n",
    "tenth = series.get('j') # Returns None, does not throw error\n",
    "tenth = series.get('j',default=0) # Returns 0"
   ]
  },
  {
   "cell_type": "code",
   "execution_count": 0,
   "metadata": {
    "colab": {
     "base_uri": "https://localhost:8080/",
     "height": 67
    },
    "colab_type": "code",
    "id": "syoCWg5FdPTs",
    "outputId": "2319e95f-8527-42cf-e5b6-99299e540e44"
   },
   "outputs": [
    {
     "name": "stdout",
     "output_type": "stream",
     "text": [
      "<PandasArray>\n",
      "[1, 2, 3, 4, 5]\n",
      "Length: 5, dtype: int64\n"
     ]
    }
   ],
   "source": [
    "# 7. Getting elements from Series via slicing\n",
    "series = pd.Series([1,2,3,4,5], index=['a','b','c','d','e'])\n",
    "\n",
    "last = series[-1:] # Returns Series containing 'e':5\n",
    "three = series[:3] # Returns first 3 elements\n",
    "three = series[2:] # Returns last 3 elements\n",
    "three = series[1:4] # Returns middle 3 elements\n",
    "three = series[[0,1,2]] # Returns first 3 elements\n",
    "three = series[['a','b','c']] # Returns first 3 elements\n",
    "shuffled = series[[4,1,3,0,2]] # Returns shuffled series in the order specified\n",
    "shuffled = series[['b','a','e','c','d']] # Returns shuffled series in the order specified\n",
    "gt3 = series[series > 3] # Returns Series of all the values > 3 (4, 5)\n",
    "gt3 = series[series > 6] # Returns Series of all the values > 6 (empty Series)\n",
    "\n",
    "indexes = series.index # Returns Index data structure containing the index labels\n",
    "values = series.values # Returns numpy array of values\n",
    "pandas_array = series.array # Returns Pandas Array data structure containing just the values"
   ]
  },
  {
   "cell_type": "code",
   "execution_count": 0,
   "metadata": {
    "colab": {
     "base_uri": "https://localhost:8080/",
     "height": 50
    },
    "colab_type": "code",
    "id": "ENyNEC0jpWoL",
    "outputId": "ac8245da-082f-46d8-a116-4580c081e719"
   },
   "outputs": [
    {
     "name": "stdout",
     "output_type": "stream",
     "text": [
      "False\n",
      "True\n"
     ]
    }
   ],
   "source": [
    "# 8. Getting Series Properties\n",
    "series = pd.Series([1,2,3,4,5,4,2,3,1,1,])\n",
    "\n",
    "series_count = series.count() # Number of elements\n",
    "series_max = series.max() # Max value (single value)\n",
    "series_min = series.min() # Min value (single value)\n",
    "description = series.describe() # Gives several properties such as count, max, min, mean, etc.\n",
    "series_sum = series.sum() # Returns single as sum of all values\n",
    "n_largest = series.nlargest(2) # Return a Series with the indexes and values of the n largest values\n",
    "n_smallest = series.nsmallest(2) # Return a Series with the indexes and values of the n smallest values\n",
    "\n",
    "max_index = series.idxmax() # Returns the index of the max value (single value)\n",
    "min_index = series.idxmin() # Returns the index of the min value (single value)\n",
    "\n",
    "histogram = series.value_counts() # Returns a Series with indexes as elements and values as counts of those elements\n",
    "\n",
    "series = pd.Series(['a','b','c'])\n",
    "description = series.describe() # Returns info such as # of unique elements, most frequent, etc.\n",
    "series = pd.Series([True, False, False, True, True])\n",
    "description = series.describe() # Returns info such as # of unique elements, most frequent, etc.\n",
    "all_true = series.all() # Returns true if all values are true\n",
    "any_true = series.any() # Returns true if any of the values are true"
   ]
  },
  {
   "cell_type": "code",
   "execution_count": 0,
   "metadata": {
    "colab": {
     "base_uri": "https://localhost:8080/",
     "height": 118
    },
    "colab_type": "code",
    "id": "uLiZuPdyBXzk",
    "outputId": "f1ad4fe7-50de-41e0-c17e-c35cb60079cd"
   },
   "outputs": [
    {
     "name": "stdout",
     "output_type": "stream",
     "text": [
      "c    3\n",
      "d    4\n",
      "e    5\n",
      "f    6\n",
      "dtype: int64\n",
      "2\n"
     ]
    }
   ],
   "source": [
    "# 9. Adding elements to and removing elements from Series\n",
    "series = pd.Series({'a':1,'b':2,'c':3,'d':4,'e':5})\n",
    "# Adding\n",
    "series['f'] = 6 # Assigns new index of 'f' and new value of 6 to series\n",
    "new_series = series.append(pd.Series({'g':7,'h':8,'i':9})) # Adds series to the end of the original series but returns a new one rather than modifying the original series\n",
    "# Removing\n",
    "del series['a'] # Removes an index and value in the original series\n",
    "new_series = series.drop(['e','f']) # Removes the indexes and values from the original series but returns a new series\n",
    "popped = series.pop('b') # Removes an index and value from the original series, changes the original series, and returns the removed value"
   ]
  },
  {
   "cell_type": "code",
   "execution_count": 0,
   "metadata": {
    "colab": {
     "base_uri": "https://localhost:8080/",
     "height": 151
    },
    "colab_type": "code",
    "id": "_eVcJMz6GHiJ",
    "outputId": "fa0f9fe5-7c2c-41f0-c065-2f35146a6e09"
   },
   "outputs": [
    {
     "name": "stdout",
     "output_type": "stream",
     "text": [
      "B    12.0\n",
      "A    11.0\n",
      "E     6.0\n",
      "C    13.0\n",
      "D     4.0\n",
      "F     NaN\n",
      "Z     NaN\n",
      "Name: Series 1, dtype: float64\n"
     ]
    }
   ],
   "source": [
    "# 10. Modifying and restructuring Series\n",
    "series = pd.Series({'a':1,'b':2,'c':3,'d':4,'e':5})\n",
    "# Modifying elements\n",
    "series[0] = 0 # Reassigns the first value to 0\n",
    "series['e'] = 6 # Reassigns the last value to 0\n",
    "series[:3] = 10 # Reassigns the indexes 0,1,2 to contain the value 10\n",
    "series[:3] = [11,12,13] # Reassigns index 0 to 11, index 1 to 12, index 2 to 13\n",
    "# series[:3] = [11,12,13,14] # Not allowed, list has to be of the same length as the slice\n",
    "series = series.rename('Series 1') # Reassigns the name of the Series\n",
    "series = series.rename(str.upper) # Changes the index labels\n",
    "series = series.reindex(['B','A','E','C','D']) # Shuffles the Series\n",
    "series = series.reindex(['B','A','E','C','D','F','Z']) # Shuffles the Series and adds labels F and Z with NaN values"
   ]
  },
  {
   "cell_type": "code",
   "execution_count": 0,
   "metadata": {
    "colab": {
     "base_uri": "https://localhost:8080/",
     "height": 118
    },
    "colab_type": "code",
    "id": "-zs9MAHmeDqW",
    "outputId": "c2728254-f782-4179-a13c-381129250897"
   },
   "outputs": [
    {
     "name": "stdout",
     "output_type": "stream",
     "text": [
      "t    1\n",
      "z    2\n",
      "a    3\n",
      "r    4\n",
      "g    5\n",
      "dtype: int64\n"
     ]
    }
   ],
   "source": [
    "# 11. Series Operations\n",
    "series = pd.Series([1,2,3,4,np.nan])\n",
    "# Arithmetic\n",
    "new_series = series + 5 # Adds 5 to all elements\n",
    "new_series = series.mul(2) # Multiplies all elements by 2\n",
    "new_series = series.mul(2, fill_value=1) # Fills in all NaNs with 1 and then multiplies all elements by 2 \n",
    "# Applies a function to multiply each element by 2 and add 5\n",
    "def f(x):\n",
    "  return (2*x)+5\n",
    "new_series = series.apply(f)\n",
    "# Casts all elements in the Series to float16 type\n",
    "new_series = series.astype(np.float16)\n",
    "new_series = series.astype('float16')\n",
    "\n",
    "series = pd.Series([3,2,4,1,5], index=['a','z','r','t','g'])\n",
    "new_series = series.sort_index(ascending=False) # Sorts Series by index label from greatest to least\n",
    "new_series = series.sort_index(kind='quicksort') # Sorts Series by index label with quicksort algorithm\n",
    "new_series = series.sort_values() # Sorts Series by values instead of index labels\n",
    "\n",
    "print(new_series)"
   ]
  },
  {
   "cell_type": "code",
   "execution_count": 0,
   "metadata": {
    "colab": {
     "base_uri": "https://localhost:8080/",
     "height": 118
    },
    "colab_type": "code",
    "id": "k6HIEDTHevwZ",
    "outputId": "852d9e89-7b62-4574-e8fa-d5bcef45d845"
   },
   "outputs": [
    {
     "name": "stdout",
     "output_type": "stream",
     "text": [
      "1.0\n",
      "2.0\n",
      "3.0\n",
      "4.0\n",
      "5.0\n",
      "nan\n"
     ]
    }
   ],
   "source": [
    "# 12. Comparisons and Iterations\n",
    "series_1 = pd.Series([1,2,3,4,5,np.nan])\n",
    "series_2 = pd.Series([5,2,4,1,np.nan,3])\n",
    "# Comparisons\n",
    "comp = series_1 > series_2 # Compares elements at matching indexes across Series and returns a Series of True/False values, can also do > >= < <= == !=\n",
    "comp = series_1.eq(series_2,fill_value=3) # Same as above but can sub in values, can also do .eq .ne .gt .ge .lt .le\n",
    "comp = series_1.equals(series_2) # Returns True if all elements are the same\n",
    "comp = series_1[0] > series_2[3] # Compares a single element to another\n",
    "comp = series_1 >= 5 # Compares all values to a single value, returns a Series of True/ False values\n",
    "# Iteration\n",
    "is_in = 4 in series_1 # Returns True if series_1 contains the value 4\n",
    "# for key, value in series_1.items(): # Iterates through a list of tuples of key/index value pairs\n",
    "#   print(key)\n",
    "#   print(value)\n",
    "for value in series_1: # Iterates through just the values\n",
    "  print(value)"
   ]
  },
  {
   "cell_type": "code",
   "execution_count": 0,
   "metadata": {
    "colab": {
     "base_uri": "https://localhost:8080/",
     "height": 67
    },
    "colab_type": "code",
    "id": "MzLFaLgijrQZ",
    "outputId": "c4e4f9aa-6622-4c7c-af97-2ffe8346eea3"
   },
   "outputs": [
    {
     "name": "stdout",
     "output_type": "stream",
     "text": [
      "   0  1  2\n",
      "0  5  5  5\n",
      "1  5  5  5\n"
     ]
    }
   ],
   "source": [
    "# 13. Creating Pandas DataFrames with Python lists and scalar values\n",
    "df = pd.DataFrame([1,2,3], dtype=np.float16) # List of Ints, creates a DataFrame with 3 rows and 1 column\n",
    "df = pd.DataFrame(['1','2','3']) # List of objects\n",
    "df = pd.DataFrame([False, True, False]) # List of Bools\n",
    "df = pd.DataFrame([[1,2,3],[4,5,6],[7,8,9]]) # Creates a DataFrame with 3 rows and 3 columns\n",
    "df = pd.DataFrame([[1,2,3,4],[5,6],[7,8,9]]) # Creates a DataFrame with 3 rows and 4 columns and fills in missing values with NaN\n",
    "\n",
    "df = pd.DataFrame(5,index=[0,1],columns=[0,1,2]) # Creates a DataFrame with 2 rows and 3 columns and fills all values with 5\n",
    "print(df)"
   ]
  },
  {
   "cell_type": "code",
   "execution_count": 0,
   "metadata": {
    "colab": {
     "base_uri": "https://localhost:8080/",
     "height": 84
    },
    "colab_type": "code",
    "id": "GUnnwF1pvrFg",
    "outputId": "83e8ea8a-b66d-4f1d-a3c4-0bcb5fc90de8"
   },
   "outputs": [
    {
     "name": "stdout",
     "output_type": "stream",
     "text": [
      "   col1  col2\n",
      "0     1     4\n",
      "1     2     5\n",
      "2     3     6\n"
     ]
    }
   ],
   "source": [
    "# 14. Creating DataFrames with Dictionaries and Series\n",
    "df = pd.DataFrame(5,index=['a','b'],columns=['col1','col2','col3']) # Creates 2x3 DataFrame with named rows and columns\n",
    "df = pd.DataFrame([1,2,3],index=['a','b','c'])  # Creates a 3x1 DataFrame with named rows\n",
    "# df = pd.DataFrame([1,2,3],columns=['a','b','c']) # Not allowed, need a set of data for each column\n",
    "df = pd.DataFrame([[1,2],[3,4],[5,6]],index=['row1','row2','row3'], columns=['a','b']) # Creates a 3x2 DataFrame with named rows and columns\n",
    "# Dictionaries\n",
    "# df = pd.DataFrame({'col1': [1,2,3], 'col2': [4,5,6,7]}) # Not allowed, need to have the same length of data when passing in lists\n",
    "df = pd.DataFrame({'col1': [1,2,3], 'col2': [4,5,6]}, index=['row1','row2','row3']) # Creates 3x2 DataFrame with named rows and columns\n",
    "df = pd.DataFrame({'col1': {'row1':1,'row2':2,'row3':3}, 'col2': {'row1':4,'row2':5,'row3':6}}) # Creates 3x2 DataFrame with named rows and columns\n",
    "df = pd.DataFrame({'col1': {'row1':1,'row2':2,'row3':3}, 'col2': {'row1':4,'row3':5,'row4':6}}) # Creates 4x2 DataFrame with named rows and columns\n",
    "df = pd.DataFrame({'col1': pd.Series([1,2,3]), 'col2': pd.Series([4,5,6])}) # Creates 3x2 DataFrame with named rows and columns from Series\n",
    "print(df)"
   ]
  },
  {
   "cell_type": "code",
   "execution_count": 0,
   "metadata": {
    "colab": {
     "base_uri": "https://localhost:8080/",
     "height": 134
    },
    "colab_type": "code",
    "id": "zkwiEEz71L5P",
    "outputId": "c39d57eb-7f06-4aa4-a800-00916d7eb6e7"
   },
   "outputs": [
    {
     "name": "stdout",
     "output_type": "stream",
     "text": [
      "      col1  col2  col3\n",
      "row1   1.0   4.0  10.0\n",
      "row2   2.0   NaN   8.0\n",
      "row3   3.0   5.0   NaN\n",
      "row4   NaN   6.0   9.0\n",
      "------------------\n",
      "1.0\n"
     ]
    }
   ],
   "source": [
    "# 15. Getting Rows and Columns from DataFrames\n",
    "df = pd.DataFrame({'col1': {'row1':1,'row2':2,'row3':3}, 'col2': {'row1':4,'row3':5,'row4':6}, 'col3': {'row1':10,'row2':8,'row4':9}})\n",
    "print(df)\n",
    "print(\"------------------\")\n",
    "# Columns\n",
    "first_col = df['col1'] # Get column as Series based on label\n",
    "first_col = df.col1 # Each column label creates a fetchable property\n",
    "first_col = df.get('col1',default=pd.Series([1,2,3])) # Get column as Series based on label or default value if col does not exist\n",
    "# Rows\n",
    "first_row = df.loc['row1'] # Get a row as a Series based on row label\n",
    "first_row = df.iloc[0] # Get a row as a Series based on row positional index\n",
    "# Single elements\n",
    "first = df['col1'].loc['row1'] # Get a single element by col and row label\n",
    "first = df['col1'].iloc[0]  # Get a single element by col label and row index\n",
    "first = df.loc['row1','col1']  # Get a single element by col and row label\n",
    "first = df.iloc[0,0]  # Get a single element by col and row index\n",
    "print(first)"
   ]
  },
  {
   "cell_type": "code",
   "execution_count": 0,
   "metadata": {
    "colab": {
     "base_uri": "https://localhost:8080/",
     "height": 168
    },
    "colab_type": "code",
    "id": "6vbSuX36643K",
    "outputId": "ee59d319-8f4d-48a8-fe00-c18601ad23aa"
   },
   "outputs": [
    {
     "name": "stdout",
     "output_type": "stream",
     "text": [
      "      col1  col2  col3\n",
      "row1   1.0   4.0  10.0\n",
      "row2   2.0   NaN   8.0\n",
      "row3   3.0   5.0   NaN\n",
      "row4   NaN   6.0   9.0\n",
      "------------------\n",
      "      col1  col2  col3\n",
      "row3   3.0   5.0   NaN\n",
      "row4   NaN   6.0   9.0\n"
     ]
    }
   ],
   "source": [
    "# 16. Slicing DataFrames\n",
    "df = pd.DataFrame({'col1': {'row1':1,'row2':2,'row3':3}, 'col2': {'row1':4,'row3':5,'row4':6}, 'col3': {'row1':10,'row2':8,'row4':9}})\n",
    "print(df)\n",
    "print(\"------------------\")\n",
    "# Column slicing\n",
    "cols = df[['col1','col2']] # Returns a DataFrame with just the first 2 columns\n",
    "cols = df[['col3','col1','col2']] # Returns a DataFrame with the columns shuffled\n",
    "# Row slicing\n",
    "rows = df.iloc[[0,1]] # Returns a DataFrame with just the first 2 rows\n",
    "rows = df.iloc[[2,3,1,0]] # Returns a DataFrame with just the rows shuffled\n",
    "rows = df.loc[['row1','row2']] # Returns a DataFrame with just the first 2 rows\n",
    "rows = df.loc[['row2','row4','row1','row3']] # Returns a DataFrame with just the rows shuffled\n",
    "rows = df.iloc[:2] # Returns a DataFrame with just the first 2 rows\n",
    "rows = df.iloc[1:3] # Returns a DataFrame with just the 2nd and 3rd rows\n",
    "rows = df.iloc[-2:] # Returns a DataFrame with just the last 2 rows\n",
    "rows = df.iloc[::2] # Returns a DataFrame with every other row (jump by 2)\n",
    "# Both\n",
    "rows = df.iloc[:,:2] # Returns a DataFrame with just the first 2 columns\n",
    "rows = df.iloc[:2,:2] # Returns a DataFrame with just the first 2 rows and the first 2 columns\n",
    "# Booleans\n",
    "rows = df[df['col1'] > 1] # Returns a DataFrame with just the all of the rows in which col1 values > 1\n",
    "rows = df[df['col2'] >= 5] # Returns a DataFrame with just the all of the rows in which col2 values >= 5\n",
    "# First/last n rows\n",
    "n_rows = df.head(2) # Returns a DataFrame with just the first 2 rows\n",
    "n_rows = df.tail() # Returns a DataFrame with just the last 5 rows\n",
    "print(n_rows)"
   ]
  },
  {
   "cell_type": "code",
   "execution_count": 0,
   "metadata": {
    "colab": {
     "base_uri": "https://localhost:8080/",
     "height": 449
    },
    "colab_type": "code",
    "id": "YA5_rHeELJSy",
    "outputId": "a483eee2-b49f-4ca3-d594-54de92c07e16"
   },
   "outputs": [
    {
     "name": "stdout",
     "output_type": "stream",
     "text": [
      "      col1  col2  col3\n",
      "row1   1.0   4.0  10.0\n",
      "row2   1.0   NaN   8.0\n",
      "row3   3.0   9.0   NaN\n",
      "row4   NaN   6.0   6.0\n",
      "------------------\n",
      "col1    row1\n",
      "col2    row1\n",
      "col3    row4\n",
      "dtype: object\n"
     ]
    },
    {
     "data": {
      "image/png": "[encoded data removed]",
      "text/plain": [
       "<Figure size 432x288 with 2 Axes>"
      ]
     },
     "metadata": {
      "tags": []
     },
     "output_type": "display_data"
    }
   ],
   "source": [
    "# 17. Fetching Dataframe Properties\n",
    "df = pd.DataFrame({'col1': {'row1':1,'row2':1,'row3':3}, 'col2': {'row1':4,'row3':9,'row4':6}, 'col3': {'row1':10,'row2':8,'row4':6}})\n",
    "print(df)\n",
    "print(\"------------------\")\n",
    "count = df.count() # Returns a Series with column counts\n",
    "count = df.count(axis=1) # Default to axis=0 (column counts), axis=1 gives row counts\n",
    "m = df.min() # Returns a Series with the min for each column\n",
    "m = df.max(axis=1) # Returns a Series with the min for each row\n",
    "descr = df.describe() # Returns a DataFrame with the max, min, mean, etc. for each Column\n",
    "n_most = df.nlargest(2,['col2']) # Returns the rows with the n largest values in specified column\n",
    "n_most = df.nlargest(2,['col2','col3']) # Returns the rows with the n largest values in specified columns\n",
    "n_most = df.nsmallest(2,['col1']) # Returns the rows with the n smallest values in specified column\n",
    "idx = df.idxmax() # Returns a Series with a column by column breakdown of the rows with the largest values\n",
    "idx = df.idxmax(axis=1) # Returns a Series with a row by row breakdown of the columns with the largest values\n",
    "idx = df.idxmin() # Returns a Series with a column by column breakdown of the rows with the smallest values\n",
    "\n",
    "idxs = df.index  # Returns an Index object with a list of index labels\n",
    "cols = df.columns  # Returns an Index object with a list of column labels\n",
    "dtypes = df.dtypes  # Returns a Series with datatypes for each column\n",
    "\n",
    "# hist = df.hist() # Plots and displays a histogram of each column\n",
    "hist = df.hist(column=['col1','col2']) # Plots and displays a histogram of specified columns"
   ]
  },
  {
   "cell_type": "code",
   "execution_count": 0,
   "metadata": {
    "colab": {
     "base_uri": "https://localhost:8080/",
     "height": 370
    },
    "colab_type": "code",
    "id": "6B_dSZFJ6OMx",
    "outputId": "698fb92a-ec44-49c1-fef6-6ce539a38918"
   },
   "outputs": [
    {
     "name": "stdout",
     "output_type": "stream",
     "text": [
      "      col1  col2  col3\n",
      "row1   1.0   4.0  10.0\n",
      "row2   1.0   NaN   8.0\n",
      "row3   3.0   9.0   NaN\n",
      "row4   NaN   6.0   6.0\n",
      "      col1  col2  col3\n",
      "row1  10.0   2.0   NaN\n",
      "row4   6.0   NaN   0.0\n",
      "row3   9.0   1.0   7.0\n",
      "row2   NaN   6.0   6.0\n",
      "--------------------\n",
      "row1    1.0\n",
      "row2    1.0\n",
      "row3    3.0\n",
      "row4    NaN\n",
      "Name: col1, dtype: float64\n",
      "      col3\n",
      "row1  10.0\n",
      "row2   8.0\n",
      "row3   NaN\n",
      "row4   6.0\n"
     ]
    }
   ],
   "source": [
    "# 18. Adding, Combining, and Removing with DataFrames\n",
    "df_1 = pd.DataFrame({'col1': {'row1':1,'row2':1,'row3':3}, 'col2': {'row1':4,'row3':9,'row4':6}, 'col3': {'row1':10,'row2':8,'row4':6}})\n",
    "df_2 = pd.DataFrame({'col1': {'row1':10,'row4':6,'row3':9}, 'col2': {'row1':2,'row3':1,'row2':6}, 'col3': {'row3':7,'row2':6,'row4':0}})\n",
    "print(df_1)\n",
    "print(df_2)\n",
    "print(\"--------------------\")\n",
    "\n",
    "# df_1['col4'] = [1,2,3,4] # Adds a column to the original df_1 if col4 does not exist or replace values if it does\n",
    "# # df_1['col4'] = pd.Series({'a':1,'b':2}) # Adds a column but fills in NaN because index labels are different\n",
    "# df_1.loc['row5'] = [20,30,40,50] # Adds a row to df_1 if row5 does not exist and replaces values if it does\n",
    "# df_1 = df_1.append(pd.Series([11,12,13,14],index=['col1','col2','col3','col4']),ignore_index=True) # Adds a row to the end of df_1\n",
    "\n",
    "combined = df_1.combine_first(df_2) # Returns a DataFrame with all values of df_1 and any NaN filled in with values of df_2\n",
    "combined = pd.concat([df_1,df_2]) # Sticks df_2 onto the end of df_1, may duplicate index labels\n",
    "\n",
    "dropped = df_1.dropna(axis=1) # Returns a DataFrame with all rows with NaN removed (removes columns if axis=0)\n",
    "dropped = df_1.drop(index=['row4'],columns=['col3']) # Returns a DataFrame without the specified rows and columns\n",
    "del df_1['col2'] # Removes a column from df_1\n",
    "popped = df_1.pop('col1') # Removes a column from df_1 and returns the column as a Series\n",
    "print(popped)\n",
    "print(df_1)"
   ]
  },
  {
   "cell_type": "code",
   "execution_count": 22,
   "metadata": {
    "colab": {
     "base_uri": "https://localhost:8080/",
     "height": 202
    },
    "colab_type": "code",
    "id": "0_w7cOgiw1Ud",
    "outputId": "d8c72cf9-df4a-486a-eb0e-4a0e7bbfc619"
   },
   "outputs": [
    {
     "name": "stdout",
     "output_type": "stream",
     "text": [
      "      col1  col2  col3\n",
      "row1   1.0   4.0  10.0\n",
      "row2   1.0   NaN   8.0\n",
      "row3   3.0   9.0   NaN\n",
      "row4   NaN   6.0   6.0\n",
      "--------------------\n",
      "    1    2    3\n",
      "r1  1  2.0  3.0\n",
      "r2  2  0.0  8.0\n",
      "r3  3  9.0  0.0\n",
      "r4  4  6.0  6.0\n"
     ]
    }
   ],
   "source": [
    "# 19. Modifying and restructuring DataFrames\n",
    "df = pd.DataFrame({'col1': {'row1':1,'row2':1,'row3':3}, 'col2': {'row1':4,'row3':9,'row4':6}, 'col3': {'row1':10,'row2':8,'row4':6}})\n",
    "print(df)\n",
    "print(\"--------------------\")\n",
    "\n",
    "# Reassigning values\n",
    "df['col1'] = [2.0,3,4,5] # Replaces the values in col1, must have the same number of elements as rows\n",
    "df['col1'] = pd.Series({'row1':1,'row2':2,'row3':3,'row4':4}) # Replaces the values in col1, should have the same labels\n",
    "df.loc['row1'] = [10,11,12] # Replaces the values in row1, must have the same number of elements as rows\n",
    "df.loc['row1'] = pd.Series({'col1':1,'col2':2,'col3':3}) # Replaces the values in row1, should have the same labels\n",
    "df = df.fillna(0) # Replaces all NaN values with 0\n",
    "# Restructuring\n",
    "restructured = df.reindex(columns=['col3','col2','col1']) # Rearranges columns\n",
    "restructured = df.reindex(columns=['col1','col2','col3','col4']) # Adds a column and fills it with NaN\n",
    "df.columns = ['1','2','3'] # Relabels columns\n",
    "restructured = df.reindex(index=['row4','row3','row2','row1']) # Rearranges rows\n",
    "restructured = df.reindex(index=['row4','row3','row2','row1','row0']) # Adds a row and fills it with NaN\n",
    "df.index = ['r1','r2','r3','r4'] # Relabels rows\n",
    "print(df)"
   ]
  },
  {
   "cell_type": "code",
   "execution_count": 43,
   "metadata": {
    "colab": {
     "base_uri": "https://localhost:8080/",
     "height": 202
    },
    "colab_type": "code",
    "id": "Qem8CWCY9uQQ",
    "outputId": "0a1ffe14-0b4c-477c-8a2f-0bbc84225a48"
   },
   "outputs": [
    {
     "name": "stdout",
     "output_type": "stream",
     "text": [
      "      col2  col3  col1\n",
      "row1   1.0   4.0  10.0\n",
      "row2   1.0   NaN   8.0\n",
      "row3   3.0   9.0   NaN\n",
      "row4   NaN   6.0   6.0\n",
      "--------------------\n",
      "      col1  col2  col3\n",
      "row1  10.0   1.0   4.0\n",
      "row2   8.0   1.0   NaN\n",
      "row3   NaN   3.0   9.0\n",
      "row4   6.0   NaN   6.0\n"
     ]
    }
   ],
   "source": [
    "# 20. DataFrame Operations\n",
    "df = pd.DataFrame({'col2': {'row1':1,'row2':1,'row3':3}, 'col3': {'row1':4,'row3':9,'row4':6}, 'col1': {'row1':10,'row2':8,'row4':6}})\n",
    "print(df)\n",
    "print(\"--------------------\")\n",
    "\n",
    "# Arithmetic operations\n",
    "result = df + 5 # Adds 5 to every element\n",
    "result = df ** 2 # Squares every element\n",
    "result = df.add(5,fill_value=0) # Adds 5 to every element, fills in NaNs with 0 then adds 5\n",
    "# Applying functions\n",
    "def f(x):\n",
    "  return (2*x) + 5\n",
    "result = df.apply(f) # Applies the function to every element in the DataFrame\n",
    "result = df.transform(np.square) # Squares every element\n",
    "result = df.transform(f) # Applies the function to every element\n",
    "result = df.transform('square') # Squares every element\n",
    "result = df.transform(lambda x: x**2) # Squares every element\n",
    "result = df.transform([np.square,np.log]) # Creates subcolumns for each column, one with the square values, one with the log values\n",
    "result = df.transform({'col1':np.square,'col2':np.log}) # Creates a DataFrame with just the two columns and the respective operations applied\n",
    "# Transpose\n",
    "result = df.transpose() # Switches row and column indexes\n",
    "# Type casting\n",
    "result = df.astype('object') # Casts all columns to object type\n",
    "result = df.astype(np.float16) # Casts all columns to float 16 type\n",
    "# Sorting\n",
    "result = df.sort_index(axis=0, ascending=False) # Returns DataFrame sorted by row label greatest to least\n",
    "result = df.sort_index(axis=1, ascending=False) # Returns DataFrame sorted by column label greatest to least\n",
    "result = df.sort_values('col3',axis=0,ascending=False) # Returns DataFrame with rows sorted by values in col3 from greatest to least\n",
    "result = df.sort_values('row2',axis=1,ascending=False) # Returns DataFrame with columns sorted by values in row2 from greatest to least\n",
    "print(result)"
   ]
  },
  {
   "cell_type": "code",
   "execution_count": 58,
   "metadata": {
    "colab": {
     "base_uri": "https://localhost:8080/",
     "height": 538
    },
    "colab_type": "code",
    "id": "hVjTFTTSOzy3",
    "outputId": "7b07b13e-994b-4528-d72a-5245d176dcab"
   },
   "outputs": [
    {
     "name": "stdout",
     "output_type": "stream",
     "text": [
      "      col1  col2\n",
      "row1   1.0   4.0\n",
      "row2   1.0   NaN\n",
      "row3   3.0   9.0\n",
      "row4   NaN   6.0\n",
      "      col1  col2\n",
      "row1   2.0   5.0\n",
      "row2   5.0   NaN\n",
      "row3   1.0   8.0\n",
      "row4   NaN   6.0\n",
      "---------------\n",
      "row1\n",
      "col1    1.0\n",
      "col2    4.0\n",
      "Name: row1, dtype: float64\n",
      "-----\n",
      "row2\n",
      "col1    1.0\n",
      "col2    NaN\n",
      "Name: row2, dtype: float64\n",
      "-----\n",
      "row3\n",
      "col1    3.0\n",
      "col2    9.0\n",
      "Name: row3, dtype: float64\n",
      "-----\n",
      "row4\n",
      "col1    NaN\n",
      "col2    6.0\n",
      "Name: row4, dtype: float64\n",
      "-----\n"
     ]
    }
   ],
   "source": [
    "# 21. DataFrame Comparisons and Iterations\n",
    "df_1 = pd.DataFrame({'col1': {'row1':1,'row2':1,'row3':3}, 'col2': {'row1':4,'row3':9,'row4':6}})\n",
    "df_2 = pd.DataFrame({'col1': {'row1':2,'row2':5,'row3':1}, 'col2': {'row1':5,'row3':8,'row4':6}})\n",
    "print(df_1)\n",
    "print(df_2)\n",
    "print(\"---------------\")\n",
    "\n",
    "# Comparisons\n",
    "gt = df_1 > df_2 # Returns a DataFrame with True/False values depending on the comparison of individual elements\n",
    "gt = df_1.gt(df_2) # ge, gt, le, lt, eq, ne\n",
    "eq = df_1.equals(df_2) # Returns true if all elements are equal across DataFrames\n",
    "gt = df_1['col1'] > df_2['col1'] # Returns a Series with True/False values depending on the comparison of individual elements\n",
    "gt = df_1['col1'].gt(df_2['col1']) # Returns a Series with True/False values depending on the comparison of individual elements\n",
    "gt = df_1.loc['row1'] > df_2.loc['row1'] # Returns a Series with True/False values depending on the comparison of individual elements\n",
    "gt = df_1.loc['row1'].gt(df_2.loc['row1']) # Returns a Series with True/False values depending on the comparison of individual elements\n",
    "# Iteration\n",
    "# for col in df_1: # Iterates through column names\n",
    "#   print(col)\n",
    "# for row in df_1.index: # Iterates through row names\n",
    "#   print(row)\n",
    "# for col_name, row_value in df_1.items(): # Iterates through columns, col_name is the column label and row_value is a Series with the column data\n",
    "#   print(col_name)\n",
    "#   print(row_value)\n",
    "#   print(\"-----\")\n",
    "for row_name, col_value in df_1.iterrows(): # Iterates through rows, row_name is the row label and column_value is a Series with the row data\n",
    "  print(row_name)\n",
    "  print(col_value)\n",
    "  print(\"-----\")"
   ]
  }
 ],
 "metadata": {
  "colab": {
   "collapsed_sections": [],
   "name": "Pandas Code.ipynb",
   "provenance": []
  },
  "kernelspec": {
   "display_name": "Python 3 (ipykernel)",
   "language": "python",
   "name": "python3"
  },
  "language_info": {
   "codemirror_mode": {
    "name": "ipython",
    "version": 3
   },
   "file_extension": ".py",
   "mimetype": "text/x-python",
   "name": "python",
   "nbconvert_exporter": "python",
   "pygments_lexer": "ipython3",
   "version": "3.10.6"
  }
 },
 "nbformat": 4,
 "nbformat_minor": 1
}
