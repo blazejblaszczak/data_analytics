{
 "cells": [
  {
   "cell_type": "markdown",
   "metadata": {
    "id": "FuDxBL8UamHp"
   },
   "source": [
    "# Setup and Context"
   ]
  },
  {
   "cell_type": "markdown",
   "metadata": {
    "id": "9vYVhf9vo7LK"
   },
   "source": [
    "### Introduction\n",
    "\n",
    "On November 27, 1895, Alfred Nobel signed his last will in Paris. When it was opened after his death, the will caused a lot of controversy, as Nobel had left much of his wealth for the establishment of a prize.\n",
    "\n",
    "Alfred Nobel dictates that his entire remaining estate should be used to endow “prizes to those who, during the preceding year, have conferred the greatest benefit to humankind”.\n",
    "\n",
    "Every year the Nobel Prize is given to scientists and scholars in the categories chemistry, literature, physics, physiology or medicine, economics, and peace. \n",
    "\n",
    "<img src=https://i.imgur.com/36pCx5Q.jpg>\n",
    "\n",
    "Let's see what patterns we can find in the data of the past Nobel laureates. What can we learn about the Nobel prize and our world more generally?"
   ]
  },
  {
   "cell_type": "markdown",
   "metadata": {
    "id": "QPnGYVYyo7LK"
   },
   "source": [
    "### Import Statements"
   ]
  },
  {
   "cell_type": "code",
   "execution_count": null,
   "metadata": {
    "id": "dCIwm0dLo7LL"
   },
   "outputs": [],
   "source": [
    "import pandas as pd\n",
    "import numpy as np\n",
    "import plotly.express as px\n",
    "import seaborn as sns\n",
    "import matplotlib.pyplot as plt"
   ]
  },
  {
   "cell_type": "markdown",
   "metadata": {
    "id": "FcJY6qfNo7LN"
   },
   "source": [
    "### Notebook Presentation"
   ]
  },
  {
   "cell_type": "code",
   "execution_count": null,
   "metadata": {
    "id": "RjzC6BoMo7LO"
   },
   "outputs": [],
   "source": [
    "pd.options.display.float_format = '{:,.2f}'.format"
   ]
  },
  {
   "cell_type": "markdown",
   "metadata": {
    "id": "eoQ5Af4wo7LQ"
   },
   "source": [
    "### Read the Data"
   ]
  },
  {
   "cell_type": "code",
   "execution_count": null,
   "metadata": {
    "id": "EbVGyi7Eo7LQ"
   },
   "outputs": [],
   "source": [
    "df_data = pd.read_csv('nobel_prize_data.csv')"
   ]
  },
  {
   "cell_type": "markdown",
   "metadata": {
    "id": "XZzHD-1dKKbr"
   },
   "source": [
    "Caveats: The exact birth dates for Michael Houghton, Venkatraman Ramakrishnan, and Nadia Murad are unknown. I've substituted them with mid-year estimate of July 2nd. \n"
   ]
  },
  {
   "cell_type": "markdown",
   "metadata": {
    "id": "rYlGEluAo7LS"
   },
   "source": [
    "# Data Exploration & Cleaning\n",
    "\n",
    "**Challenge**: Preliminary data exploration. \n",
    "* What is the shape of `df_data`? How many rows and columns?\n",
    "* What are the column names?\n",
    "* In which year was the Nobel prize first awarded?\n",
    "* Which year is the latest year included in the dataset?"
   ]
  },
  {
   "cell_type": "code",
   "execution_count": null,
   "metadata": {
    "colab": {
     "base_uri": "https://localhost:8080/",
     "height": 34
    },
    "id": "ZklFIhbqo7LS",
    "outputId": "15134276-7a1a-4034-f58f-4dd97b0279e0"
   },
   "outputs": [],
   "source": [
    "df_data.shape"
   ]
  },
  {
   "cell_type": "code",
   "execution_count": null,
   "metadata": {
    "colab": {
     "base_uri": "https://localhost:8080/",
     "height": 496
    },
    "id": "DoxsF8-6o7LU",
    "outputId": "25409320-f24e-4255-b40a-949bb560898b"
   },
   "outputs": [],
   "source": [
    "df_data.head()"
   ]
  },
  {
   "cell_type": "code",
   "execution_count": null,
   "metadata": {
    "colab": {
     "base_uri": "https://localhost:8080/",
     "height": 530
    },
    "id": "pcCvsmLdo7LZ",
    "outputId": "92a6a4f9-dec7-474b-f968-92188c34c5ae"
   },
   "outputs": [],
   "source": [
    "df_data.tail()"
   ]
  },
  {
   "cell_type": "markdown",
   "metadata": {
    "id": "SjA1sZPPMH_Y"
   },
   "source": [
    "**Challange**: \n",
    "* Are there any duplicate values in the dataset?\n",
    "* Are there NaN values in the dataset?\n",
    "* Which columns tend to have NaN values?\n",
    "* How many NaN values are there per column? \n",
    "* Why do these columns have NaN values?  "
   ]
  },
  {
   "cell_type": "markdown",
   "metadata": {
    "id": "q1EuEZV7o7Lb"
   },
   "source": [
    "### Check for Duplicates"
   ]
  },
  {
   "cell_type": "code",
   "execution_count": null,
   "metadata": {
    "colab": {
     "base_uri": "https://localhost:8080/",
     "height": 34
    },
    "id": "ho4SIgP7o7Lb",
    "outputId": "7e0ef498-6b7b-4f8a-efea-ebe5bdd0fd9c"
   },
   "outputs": [],
   "source": [
    "print(f'Any duplicates? {df_data.duplicated().values.any()}')"
   ]
  },
  {
   "cell_type": "markdown",
   "metadata": {
    "id": "w69xDtpzo7Ld"
   },
   "source": [
    "### Check for NaN Values"
   ]
  },
  {
   "cell_type": "code",
   "execution_count": null,
   "metadata": {
    "colab": {
     "base_uri": "https://localhost:8080/",
     "height": 34
    },
    "id": "rDBu8Imdo7Le",
    "outputId": "9f408c41-855a-4caf-a523-ed13cffec903"
   },
   "outputs": [],
   "source": [
    "print(f'Any NaN values among the data? {df_data.isna().values.any()}')"
   ]
  },
  {
   "cell_type": "code",
   "execution_count": null,
   "metadata": {
    "colab": {
     "base_uri": "https://localhost:8080/",
     "height": 306
    },
    "id": "694LqFLgo7Lf",
    "outputId": "02d78838-66ca-43f7-ae14-047aa31309a7"
   },
   "outputs": [],
   "source": [
    "df_data.isna().sum()"
   ]
  },
  {
   "cell_type": "markdown",
   "metadata": {
    "id": "bmrOgB5Mo7Lh"
   },
   "source": [
    "Why are there NaN values for birth dates? "
   ]
  },
  {
   "cell_type": "code",
   "execution_count": null,
   "metadata": {
    "colab": {
     "base_uri": "https://localhost:8080/",
     "height": 917
    },
    "id": "dinaZpdQo7Lh",
    "outputId": "dbcfef4b-3098-4a3c-cae3-df29abd58d52"
   },
   "outputs": [],
   "source": [
    "# NaN values for birth date are all organisations\n",
    "col_subset = ['year','category', 'laureate_type',\n",
    "              'birth_date','full_name', 'organization_name']\n",
    "df_data.loc[df_data.birth_date.isna()][col_subset]"
   ]
  },
  {
   "cell_type": "code",
   "execution_count": null,
   "metadata": {
    "colab": {
     "base_uri": "https://localhost:8080/",
     "height": 419
    },
    "id": "YKTOX-zuuAje",
    "outputId": "13491aca-8e25-4cc2-d6c4-bede0c881a5b"
   },
   "outputs": [],
   "source": [
    "# NaN values for organisation_name\n",
    "col_subset = ['year','category', 'laureate_type','full_name', 'organization_name']\n",
    "df_data.loc[df_data.organization_name.isna()][col_subset]"
   ]
  },
  {
   "cell_type": "markdown",
   "metadata": {
    "id": "zmZ4SYzRo7Lj"
   },
   "source": [
    "Some prizes are given to Organisations rather than individuals!"
   ]
  },
  {
   "cell_type": "markdown",
   "metadata": {
    "id": "ZyG18tKXo7Lj"
   },
   "source": [
    "### Type Conversions\n",
    "\n",
    "**Challenge**: \n",
    "* Convert the `birth_date` column to Pandas `Datetime` objects\n",
    "* Add a Column called `share_pct` which has the laureates' share as a percentage in the form of a floating-point number."
   ]
  },
  {
   "cell_type": "markdown",
   "metadata": {
    "id": "tTTFo-CXo7Lk"
   },
   "source": [
    "#### Convert Year and Birth Date to Datetime"
   ]
  },
  {
   "cell_type": "code",
   "execution_count": null,
   "metadata": {
    "id": "X-ktfxYEo7Lk"
   },
   "outputs": [],
   "source": [
    "df_data.birth_date = pd.to_datetime(df_data.birth_date)"
   ]
  },
  {
   "cell_type": "markdown",
   "metadata": {
    "id": "i456Gr0io7Lm"
   },
   "source": [
    "#### Add a Column with the Prize Share as a Percentage"
   ]
  },
  {
   "cell_type": "code",
   "execution_count": null,
   "metadata": {
    "id": "5JIOVFvOo7Lm"
   },
   "outputs": [],
   "source": [
    "separated_values = df_data.prize_share.str.split('/', expand=True)\n",
    "numerator = pd.to_numeric(separated_values[0])\n",
    "denomenator = pd.to_numeric(separated_values[1])\n",
    "df_data['share_pct'] = numerator / denomenator"
   ]
  },
  {
   "cell_type": "code",
   "execution_count": null,
   "metadata": {
    "colab": {
     "base_uri": "https://localhost:8080/",
     "height": 425
    },
    "id": "4yY2K_iMo7Lo",
    "outputId": "601414f3-f78b-43c7-901f-1b39dec47177"
   },
   "outputs": [],
   "source": [
    "df_data.info()"
   ]
  },
  {
   "cell_type": "markdown",
   "metadata": {
    "id": "-x571TLao7Lq"
   },
   "source": [
    "# Plotly Donut Chart: Percentage of Male vs. Female Laureates"
   ]
  },
  {
   "cell_type": "markdown",
   "metadata": {
    "id": "Q5jBv1lUo7Lq"
   },
   "source": [
    "**Challenge**: Create a [donut chart using plotly](https://plotly.com/python/pie-charts/) which shows how many prizes went to men compared to how many prizes went to women. What percentage of all the prizes went to women?"
   ]
  },
  {
   "cell_type": "code",
   "execution_count": null,
   "metadata": {
    "colab": {
     "base_uri": "https://localhost:8080/",
     "height": 542
    },
    "id": "63KQv_oto7Lr",
    "outputId": "0c2cc84f-779a-4700-f8f1-04bf135fa38c"
   },
   "outputs": [],
   "source": [
    "biology = df_data.sex.value_counts()\n",
    "fig = px.pie(labels=biology.index, \n",
    "             values=biology.values,\n",
    "             title=\"Percentage of Male vs. Female Winners\",\n",
    "             names=biology.index,\n",
    "             hole=0.4,)\n",
    "\n",
    "fig.update_traces(textposition='inside', textfont_size=15, textinfo='percent')\n",
    "\n",
    "fig.show()"
   ]
  },
  {
   "cell_type": "markdown",
   "metadata": {
    "dc": {
     "key": "38"
    },
    "id": "dmdB0tCko7Lu",
    "run_control": {
     "frozen": true
    },
    "tags": [
     "context"
    ]
   },
   "source": [
    "# Who were the first 3 Women to Win the Nobel Prize?\n",
    "\n",
    "**Challenge**: \n",
    "* What are the names of the first 3 female Nobel laureates? \n",
    "* What did the win the prize for? \n",
    "* What do you see in their `birth_country`? Were they part of an organisation?"
   ]
  },
  {
   "cell_type": "code",
   "execution_count": null,
   "metadata": {
    "colab": {
     "base_uri": "https://localhost:8080/",
     "height": 366
    },
    "id": "z2f2XtV-o7Lu",
    "outputId": "2696180c-8a68-434d-ad2a-ed352d50da09"
   },
   "outputs": [],
   "source": [
    "df_data[df_data.sex == 'Female'].sort_values('year', ascending=True)[:3]"
   ]
  },
  {
   "cell_type": "markdown",
   "metadata": {
    "id": "dPVD_f1oo7Lw"
   },
   "source": [
    "# Find the Repeat Winners\n",
    "\n",
    "**Challenge**: Did some people get a Nobel Prize more than once? If so, who were they? "
   ]
  },
  {
   "cell_type": "code",
   "execution_count": null,
   "metadata": {
    "colab": {
     "base_uri": "https://localhost:8080/",
     "height": 34
    },
    "id": "R4hI3YL7o7Lw",
    "outputId": "762465dd-f071-4c59-e4f8-c87ff64f1bea"
   },
   "outputs": [],
   "source": [
    "is_winner = df_data.duplicated(subset=['full_name'], keep=False)\n",
    "multiple_winners = df_data[is_winner]\n",
    "print(f'There are {multiple_winners.full_name.nunique()}' \\\n",
    "      ' winners who weere awarded the prize more than once.')"
   ]
  },
  {
   "cell_type": "code",
   "execution_count": null,
   "metadata": {
    "id": "1akOhbnWo7Lx"
   },
   "outputs": [],
   "source": [
    "# Alternative:\n",
    "multiple_winners = df_data.groupby(by = 'full_name').filter(lambda x : x['year'].count() >= 2)"
   ]
  },
  {
   "cell_type": "code",
   "execution_count": null,
   "metadata": {
    "colab": {
     "base_uri": "https://localhost:8080/",
     "height": 452
    },
    "id": "OjOSFNZ6o7Lz",
    "outputId": "93906624-42bd-48f0-9176-19b302521915"
   },
   "outputs": [],
   "source": [
    "col_subset = ['year', 'category', 'laureate_type', 'full_name']\n",
    "multiple_winners[col_subset]"
   ]
  },
  {
   "cell_type": "markdown",
   "metadata": {
    "dc": {
     "key": "45"
    },
    "id": "x5NtE05go7L1",
    "tags": [
     "sample_code"
    ]
   },
   "source": [
    "# Number of Prizes per Category\n",
    "\n",
    "**Challenge**: \n",
    "* In how many categories are prizes awarded? \n",
    "* Create a plotly bar chart with the number of prizes awarded by category. \n",
    "* Use the color scale called `Aggrnyl` to colour the chart, but don't show a color axis.\n",
    "* Which category has the most number of prizes awarded? \n",
    "* Which category has the fewest number of prizes awarded? "
   ]
  },
  {
   "cell_type": "code",
   "execution_count": null,
   "metadata": {
    "colab": {
     "base_uri": "https://localhost:8080/",
     "height": 34
    },
    "id": "RMZV4LLPo7L2",
    "outputId": "7d83bed3-abc0-429d-bf0f-824da2332b0e"
   },
   "outputs": [],
   "source": [
    "# Number of different categories\n",
    "df_data.category.nunique()"
   ]
  },
  {
   "cell_type": "code",
   "execution_count": null,
   "metadata": {
    "colab": {
     "base_uri": "https://localhost:8080/",
     "height": 542
    },
    "id": "39aZjwqwo7L3",
    "outputId": "ffe847e5-ad61-4123-e40d-e63f9d3187e0"
   },
   "outputs": [],
   "source": [
    "prizes_per_category = df_data.category.value_counts()\n",
    "v_bar = px.bar(\n",
    "        x = prizes_per_category.index,\n",
    "        y = prizes_per_category.values,\n",
    "        color = prizes_per_category.values,\n",
    "        color_continuous_scale='Aggrnyl',\n",
    "        title='Number of Prizes Awarded per Category')\n",
    "\n",
    "v_bar.update_layout(xaxis_title='Nobel Prize Category', \n",
    "                    coloraxis_showscale=False,\n",
    "                    yaxis_title='Number of Prizes')\n",
    "v_bar.show()"
   ]
  },
  {
   "cell_type": "markdown",
   "metadata": {
    "id": "nlISAxfXo7L5"
   },
   "source": [
    "**Challenge**: \n",
    "* When was the first prize in the field of Economics awarded?\n",
    "* Who did the prize go to?"
   ]
  },
  {
   "cell_type": "code",
   "execution_count": null,
   "metadata": {
    "colab": {
     "base_uri": "https://localhost:8080/",
     "height": 417
    },
    "id": "9OhzWCCEo7L5",
    "outputId": "db17d76f-c9ec-4c93-d407-d0b2daf8566c"
   },
   "outputs": [],
   "source": [
    "df_data[df_data.category == 'Economics'].sort_values('year')[:3]"
   ]
  },
  {
   "cell_type": "markdown",
   "metadata": {
    "dc": {
     "key": "31"
    },
    "id": "COqMa0fIo7L7",
    "run_control": {
     "frozen": true
    },
    "tags": [
     "context"
    ]
   },
   "source": [
    "# Male and Female Winners by Category\n",
    "\n",
    "**Challenge**: Create a [plotly bar chart](https://plotly.com/python/bar-charts/) that shows the split between men and women by category. \n",
    "* Hover over the bar chart. How many prizes went to women in Literature compared to Physics?\n",
    "\n",
    "<img src=https://i.imgur.com/od8TfOp.png width=650>"
   ]
  },
  {
   "cell_type": "code",
   "execution_count": null,
   "metadata": {
    "colab": {
     "base_uri": "https://localhost:8080/",
     "height": 421
    },
    "id": "xOoKm0XHo7L8",
    "outputId": "1d4c2bd7-729b-4ecc-d253-e8d202b41d6d"
   },
   "outputs": [],
   "source": [
    "cat_men_women = df_data.groupby(['category', 'sex'], \n",
    "                               as_index=False).agg({'prize': pd.Series.count})\n",
    "cat_men_women.sort_values('prize', ascending=False, inplace=True)\n",
    "cat_men_women"
   ]
  },
  {
   "cell_type": "code",
   "execution_count": null,
   "metadata": {
    "colab": {
     "base_uri": "https://localhost:8080/",
     "height": 542
    },
    "id": "MyWD1TF3o7L-",
    "outputId": "3c3f6365-ff36-4c00-f4b8-c854fa2d0bd1"
   },
   "outputs": [],
   "source": [
    "v_bar_split = px.bar(x = cat_men_women.category,\n",
    "                     y = cat_men_women.prize,\n",
    "                     color = cat_men_women.sex,\n",
    "                     title='Number of Prizes Awarded per Category split by Men and Women')\n",
    "\n",
    "v_bar_split.update_layout(xaxis_title='Nobel Prize Category', \n",
    "                          yaxis_title='Number of Prizes')\n",
    "v_bar_split.show()"
   ]
  },
  {
   "cell_type": "markdown",
   "metadata": {
    "id": "CpHaV-ZDo7MD"
   },
   "source": [
    "# Number of Prizes Awarded Over Time\n",
    "\n",
    "**Challenge**: Are more prizes awarded recently than when the prize was first created? Show the trend in awards visually. \n",
    "* Count the number of prizes awarded every year. \n",
    "* Create a 5 year rolling average of the number of prizes (Hint: see previous lessons analysing Google Trends).\n",
    "* Using Matplotlib superimpose the rolling average on a scatter plot.\n",
    "* Show a tick mark on the x-axis for every 5 years from 1900 to 2020. (Hint: you'll need to use NumPy). \n",
    "\n",
    "<img src=https://i.imgur.com/4jqYuWC.png width=650>\n",
    "\n",
    "* Use the [named colours](https://matplotlib.org/3.1.0/gallery/color/named_colors.html) to draw the data points in `dogerblue` while the rolling average is coloured in `crimson`. \n",
    "\n",
    "<img src=https://i.imgur.com/u3RlcJn.png width=350>\n",
    "\n",
    "* Looking at the chart, did the first and second world wars have an impact on the number of prizes being given out? \n",
    "* What could be the reason for the trend in the chart?\n"
   ]
  },
  {
   "cell_type": "code",
   "execution_count": null,
   "metadata": {
    "id": "2J7afs8lo7MD"
   },
   "outputs": [],
   "source": [
    "prize_per_year = df_data.groupby(by='year').count().prize"
   ]
  },
  {
   "cell_type": "code",
   "execution_count": null,
   "metadata": {
    "id": "INrLBxj6o7MF"
   },
   "outputs": [],
   "source": [
    "moving_average = prize_per_year.rolling(window=5).mean()"
   ]
  },
  {
   "cell_type": "code",
   "execution_count": null,
   "metadata": {
    "colab": {
     "base_uri": "https://localhost:8080/",
     "height": 265
    },
    "id": "DYb2D9h0Y649",
    "outputId": "7e65dbb4-70bd-4e4c-fc40-db18b9788b53"
   },
   "outputs": [],
   "source": [
    "plt.scatter(x=prize_per_year.index, \n",
    "           y=prize_per_year.values, \n",
    "           c='dodgerblue',\n",
    "           alpha=0.7,\n",
    "           s=100,)\n",
    "\n",
    "plt.plot(prize_per_year.index, \n",
    "        moving_average.values, \n",
    "        c='crimson', \n",
    "        linewidth=3,)\n",
    "\n",
    "plt.show()"
   ]
  },
  {
   "cell_type": "code",
   "execution_count": null,
   "metadata": {
    "colab": {
     "base_uri": "https://localhost:8080/",
     "height": 488
    },
    "id": "vZAfkHJzo7MH",
    "outputId": "edbd4d51-d586-4e5f-d3a1-2ab094625471"
   },
   "outputs": [],
   "source": [
    "plt.figure(figsize=(16,8), dpi=200)\n",
    "plt.title('Number of Nobel Prizes Awarded per Year', fontsize=18)\n",
    "plt.yticks(fontsize=14)\n",
    "plt.xticks(ticks=np.arange(1900, 2021, step=5), \n",
    "           fontsize=14, \n",
    "           rotation=45)\n",
    "\n",
    "ax = plt.gca()\n",
    "ax.set_xlim(1900, 2020)\n",
    "\n",
    "ax.scatter(x=prize_per_year.index, \n",
    "           y=prize_per_year.values, \n",
    "           c='dodgerblue',\n",
    "           alpha=0.7,\n",
    "           s=100,)\n",
    "\n",
    "ax.plot(prize_per_year.index, \n",
    "        moving_average.values, \n",
    "        c='crimson', \n",
    "        linewidth=3,)\n",
    "\n",
    "plt.show()"
   ]
  },
  {
   "cell_type": "markdown",
   "metadata": {
    "id": "gZWAAkdJo7MJ"
   },
   "source": [
    "# Are More Prizes Shared Than Before?\n",
    "\n",
    "**Challenge**: Investigate if more prizes are shared than before. \n",
    "\n",
    "* Calculate the average prize share of the winners on a year by year basis.\n",
    "* Calculate the 5 year rolling average of the percentage share.\n",
    "* Copy-paste the cell from the chart you created above.\n",
    "* Modify the code to add a secondary axis to your Matplotlib chart.\n",
    "* Plot the rolling average of the prize share on this chart. \n",
    "* See if you can invert the secondary y-axis to make the relationship even more clear. "
   ]
  },
  {
   "cell_type": "code",
   "execution_count": null,
   "metadata": {
    "id": "mhyqU4bRo7MJ"
   },
   "outputs": [],
   "source": [
    "yearly_avg_share = df_data.groupby(by='year').agg({'share_pct': pd.Series.mean})\n",
    "share_moving_average = yearly_avg_share.rolling(window=5).mean()"
   ]
  },
  {
   "cell_type": "code",
   "execution_count": null,
   "metadata": {
    "colab": {
     "base_uri": "https://localhost:8080/",
     "height": 485
    },
    "id": "HYot62L6axAQ",
    "outputId": "fd214b03-cc45-4fcc-bd98-8afe415604b5"
   },
   "outputs": [],
   "source": [
    "plt.figure(figsize=(16,8), dpi=200)\n",
    "plt.title('Number of Nobel Prizes Awarded per Year', fontsize=18)\n",
    "plt.yticks(fontsize=14)\n",
    "plt.xticks(ticks=np.arange(1900, 2021, step=5), \n",
    "           fontsize=14, \n",
    "           rotation=45)\n",
    "\n",
    "ax1 = plt.gca()\n",
    "ax2 = ax1.twinx() # create second y-axis\n",
    "ax1.set_xlim(1900, 2020)\n",
    "\n",
    "ax1.scatter(x=prize_per_year.index, \n",
    "           y=prize_per_year.values, \n",
    "           c='dodgerblue',\n",
    "           alpha=0.7,\n",
    "           s=100,)\n",
    "\n",
    "ax1.plot(prize_per_year.index, \n",
    "        moving_average.values, \n",
    "        c='crimson', \n",
    "        linewidth=3,)\n",
    "\n",
    "# Adding prize share plot on second axis\n",
    "ax2.plot(prize_per_year.index, \n",
    "        share_moving_average.values, \n",
    "        c='grey', \n",
    "        linewidth=3,)\n",
    "\n",
    "plt.show()"
   ]
  },
  {
   "cell_type": "code",
   "execution_count": null,
   "metadata": {
    "colab": {
     "base_uri": "https://localhost:8080/",
     "height": 485
    },
    "id": "zFo4QzoSo7ML",
    "outputId": "754a46bb-0626-41b5-b922-a172a8f8624f"
   },
   "outputs": [],
   "source": [
    "plt.figure(figsize=(16,8), dpi=200)\n",
    "plt.title('Number of Nobel Prizes Awarded per Year', fontsize=18)\n",
    "plt.yticks(fontsize=14)\n",
    "plt.xticks(ticks=np.arange(1900, 2021, step=5), \n",
    "           fontsize=14, \n",
    "           rotation=45)\n",
    "\n",
    "ax1 = plt.gca()\n",
    "ax2 = ax1.twinx()\n",
    "ax1.set_xlim(1900, 2020)\n",
    "\n",
    "# Can invert axis\n",
    "ax2.invert_yaxis()\n",
    "\n",
    "ax1.scatter(x=prize_per_year.index, \n",
    "           y=prize_per_year.values, \n",
    "           c='dodgerblue',\n",
    "           alpha=0.7,\n",
    "           s=100,)\n",
    "\n",
    "ax1.plot(prize_per_year.index, \n",
    "        moving_average.values, \n",
    "        c='crimson', \n",
    "        linewidth=3,)\n",
    "\n",
    "ax2.plot(prize_per_year.index, \n",
    "        share_moving_average.values, \n",
    "        c='grey', \n",
    "        linewidth=3,)\n",
    "\n",
    "plt.show()"
   ]
  },
  {
   "cell_type": "markdown",
   "metadata": {
    "dc": {
     "key": "3"
    },
    "id": "L32lWu0Oo7MM",
    "run_control": {
     "frozen": true
    },
    "tags": [
     "context"
    ]
   },
   "source": [
    "# The Countries with the Most Nobel Prizes"
   ]
  },
  {
   "cell_type": "markdown",
   "metadata": {
    "id": "UipIHU54o7MN"
   },
   "source": [
    "**Challenge**: \n",
    "* Create a Pandas DataFrame called `top20_countries` that has the two columns. The `prize` column should contain the total number of prizes won. \n",
    "\n",
    "<img src=https://i.imgur.com/6HM8rfB.png width=350>\n",
    "\n",
    "* Is it best to use `birth_country`, `birth_country_current` or `organization_country`? \n",
    "* What are some potential problems when using `birth_country` or any of the others? Which column is the least problematic? \n",
    "* Then use plotly to create a horizontal bar chart showing the number of prizes won by each country. Here's what you're after:\n",
    "\n",
    "<img src=https://i.imgur.com/agcJdRS.png width=750>\n",
    "\n",
    "* What is the ranking for the top 20 countries in terms of the number of prizes?"
   ]
  },
  {
   "cell_type": "code",
   "execution_count": null,
   "metadata": {
    "colab": {
     "base_uri": "https://localhost:8080/",
     "height": 669
    },
    "id": "UrzjcAyqo7MN",
    "outputId": "812bae1d-4e1c-4d80-8c74-9bbecc4db316"
   },
   "outputs": [],
   "source": [
    "top_countries = df_data.groupby(['birth_country_current'], \n",
    "                                  as_index=False).agg({'prize': pd.Series.count})\n",
    "\n",
    "top_countries.sort_values(by='prize', inplace=True)\n",
    "top20_countries = top_countries[-20:]\n",
    "top20_countries"
   ]
  },
  {
   "cell_type": "code",
   "execution_count": null,
   "metadata": {
    "colab": {
     "base_uri": "https://localhost:8080/",
     "height": 542
    },
    "id": "MG9wiki2o7MQ",
    "outputId": "ce34a003-7c0e-45b2-fd0c-4710f7a2cbb6"
   },
   "outputs": [],
   "source": [
    "h_bar = px.bar(x=top20_countries.prize,\n",
    "               y=top20_countries.birth_country_current,\n",
    "               orientation='h',\n",
    "               color=top20_countries.prize,\n",
    "               color_continuous_scale='Viridis',\n",
    "               title='Top 20 Countries by Number of Prizes')\n",
    "\n",
    "h_bar.update_layout(xaxis_title='Number of Prizes', \n",
    "                    yaxis_title='Country',\n",
    "                    coloraxis_showscale=False)\n",
    "h_bar.show()"
   ]
  },
  {
   "cell_type": "markdown",
   "metadata": {
    "id": "uNTvKsrzo7MR"
   },
   "source": [
    "# Use a Choropleth Map to Show the Number of Prizes Won by Country\n",
    "\n",
    "* Create this choropleth map using [the plotly documentation](https://plotly.com/python/choropleth-maps/):\n",
    "\n",
    "<img src=https://i.imgur.com/s4lqYZH.png>\n",
    "\n",
    "* Experiment with [plotly's available colours](https://plotly.com/python/builtin-colorscales/). I quite like the sequential colour `matter` on this map. \n",
    "\n",
    "Hint: You'll need to use a 3 letter country code for each country. \n"
   ]
  },
  {
   "cell_type": "code",
   "execution_count": null,
   "metadata": {
    "colab": {
     "base_uri": "https://localhost:8080/",
     "height": 419
    },
    "id": "WQj84MsCo7MR",
    "outputId": "d1d770b2-173b-4cc9-ef67-1b3052d26708"
   },
   "outputs": [],
   "source": [
    "df_countries = df_data.groupby(['birth_country_current', 'ISO'], \n",
    "                               as_index=False).agg({'prize': pd.Series.count})\n",
    "df_countries.sort_values('prize', ascending=False)"
   ]
  },
  {
   "cell_type": "code",
   "execution_count": null,
   "metadata": {
    "colab": {
     "base_uri": "https://localhost:8080/",
     "height": 542
    },
    "id": "adfEDcigo7MT",
    "outputId": "38b1cb0d-561f-42a8-c6fb-6cb86b7961be"
   },
   "outputs": [],
   "source": [
    "world_map = px.choropleth(df_countries,\n",
    "                          locations='ISO',\n",
    "                          color='prize', \n",
    "                          hover_name='birth_country_current', \n",
    "                          color_continuous_scale=px.colors.sequential.matter)\n",
    "\n",
    "world_map.update_layout(coloraxis_showscale=True,)\n",
    "\n",
    "world_map.show()"
   ]
  },
  {
   "cell_type": "markdown",
   "metadata": {
    "id": "hNB-HUw0o7MU"
   },
   "source": [
    "# In Which Categories are the Different Countries Winning Prizes? \n",
    "\n",
    "**Challenge**: See if you can divide up the plotly bar chart you created above to show the which categories made up the total number of prizes. Here's what you're aiming for:\n",
    "\n",
    "<img src=https://i.imgur.com/iGaIKCL.png>\n",
    "\n",
    "* In which category are Germany and Japan the weakest compared to the United States?\n",
    "* In which category does Germany have more prizes than the UK?\n",
    "* In which categories does France have more prizes than Germany?\n",
    "* Which category makes up most of Australia's nobel prizes?\n",
    "* Which category makes up half of the prizes in the Netherlands?\n",
    "* Does the United States have more prizes in Economics than all of France? What about in Physics or Medicine?\n",
    "\n",
    "\n",
    "The hard part is preparing the data for this chart! \n",
    "\n",
    "\n",
    "*Hint*: Take a two-step approach. The first step is grouping the data by country and category. Then you can create a DataFrame that looks something like this:\n",
    "\n",
    "<img src=https://i.imgur.com/VKjzKa1.png width=450>\n"
   ]
  },
  {
   "cell_type": "code",
   "execution_count": null,
   "metadata": {
    "colab": {
     "base_uri": "https://localhost:8080/",
     "height": 419
    },
    "id": "cyb8NR3No7MV",
    "outputId": "1a866b69-975f-43dc-fab1-3fd70be3b45b"
   },
   "outputs": [],
   "source": [
    "cat_country = df_data.groupby(['birth_country_current', 'category'], \n",
    "                               as_index=False).agg({'prize': pd.Series.count})\n",
    "cat_country.sort_values(by='prize', ascending=False, inplace=True)\n",
    "cat_country"
   ]
  },
  {
   "cell_type": "code",
   "execution_count": null,
   "metadata": {
    "colab": {
     "base_uri": "https://localhost:8080/",
     "height": 419
    },
    "id": "kX2OLyIAo7MX",
    "outputId": "182259fc-b070-4dc8-cc32-7373ad7a16db"
   },
   "outputs": [],
   "source": [
    "merged_df = pd.merge(cat_country, top20_countries, on='birth_country_current')\n",
    "# change column names\n",
    "merged_df.columns = ['birth_country_current', 'category', 'cat_prize', 'total_prize'] \n",
    "merged_df.sort_values(by='total_prize', inplace=True)\n",
    "merged_df"
   ]
  },
  {
   "cell_type": "code",
   "execution_count": null,
   "metadata": {
    "colab": {
     "base_uri": "https://localhost:8080/",
     "height": 542
    },
    "id": "jRC69Bf7o7MZ",
    "outputId": "4b909627-b3f4-4305-cc14-31285dbcf6c0"
   },
   "outputs": [],
   "source": [
    "cat_cntry_bar = px.bar(x=merged_df.cat_prize,\n",
    "                       y=merged_df.birth_country_current,\n",
    "                       color=merged_df.category,\n",
    "                       orientation='h',\n",
    "                       title='Top 20 Countries by Number of Prizes and Category')\n",
    "\n",
    "cat_cntry_bar.update_layout(xaxis_title='Number of Prizes', \n",
    "                            yaxis_title='Country')\n",
    "cat_cntry_bar.show()"
   ]
  },
  {
   "cell_type": "markdown",
   "metadata": {
    "dc": {
     "key": "10"
    },
    "id": "Ic-LN14bo7Mb",
    "run_control": {
     "frozen": true
    },
    "tags": [
     "context"
    ]
   },
   "source": [
    "### Number of Prizes Won by Each Country Over Time\n",
    "\n",
    "* When did the United States eclipse every other country in terms of the number of prizes won? \n",
    "* Which country or countries were leading previously?\n",
    "* Calculate the cumulative number of prizes won by each country in every year. Again, use the `birth_country_current` of the winner to calculate this. \n",
    "* Create a [plotly line chart](https://plotly.com/python/line-charts/) where each country is a coloured line. "
   ]
  },
  {
   "cell_type": "code",
   "execution_count": null,
   "metadata": {
    "colab": {
     "base_uri": "https://localhost:8080/",
     "height": 419
    },
    "id": "89SzzMyjo7Mc",
    "outputId": "16371ff1-4a2c-42fd-d004-ffa7842ff338"
   },
   "outputs": [],
   "source": [
    "prize_by_year = df_data.groupby(by=['birth_country_current', 'year'], as_index=False).count()\n",
    "prize_by_year = prize_by_year.sort_values('year')[['year', 'birth_country_current', 'prize']]\n",
    "prize_by_year"
   ]
  },
  {
   "cell_type": "code",
   "execution_count": null,
   "metadata": {
    "id": "Vztsx1aIo7Mf"
   },
   "outputs": [],
   "source": [
    "cumulative_prizes = prize_by_year.groupby(by=['birth_country_current',\n",
    "                                              'year']).sum().groupby(level=[0]).cumsum()\n",
    "cumulative_prizes.reset_index(inplace=True)"
   ]
  },
  {
   "cell_type": "code",
   "execution_count": null,
   "metadata": {
    "colab": {
     "base_uri": "https://localhost:8080/",
     "height": 542
    },
    "id": "oGT41_NQo7Mh",
    "outputId": "35464d3b-2277-42ff-985a-9444e19c9994"
   },
   "outputs": [],
   "source": [
    "l_chart = px.line(cumulative_prizes,\n",
    "                  x='year', \n",
    "                  y='prize',\n",
    "                  color='birth_country_current',\n",
    "                  hover_name='birth_country_current')\n",
    "\n",
    "l_chart.update_layout(xaxis_title='Year',\n",
    "                      yaxis_title='Number of Prizes')\n",
    "\n",
    "l_chart.show()"
   ]
  },
  {
   "cell_type": "markdown",
   "metadata": {
    "id": "J7WUUZpUo7Mj"
   },
   "source": [
    "# What are the Top Research Organisations?\n",
    "\n",
    "**Challenge**: Create a bar chart showing the organisations affiliated with the Nobel laureates. It should looks something like this:\n",
    "\n",
    "<img src=https://i.imgur.com/zZihj2p.png width=600>\n",
    "\n",
    "* Which organisations make up the top 20?\n",
    "* How many Nobel prize winners are affiliated with the University of Chicago and Harvard University?"
   ]
  },
  {
   "cell_type": "code",
   "execution_count": null,
   "metadata": {
    "id": "lIDfxQ7_o7Mj"
   },
   "outputs": [],
   "source": [
    "top20_orgs = df_data.organization_name.value_counts()[:20]\n",
    "top20_orgs.sort_values(ascending=True, inplace=True)"
   ]
  },
  {
   "cell_type": "code",
   "execution_count": null,
   "metadata": {
    "colab": {
     "base_uri": "https://localhost:8080/",
     "height": 542
    },
    "id": "vZcw2GO5o7Ml",
    "outputId": "2ff01090-4d25-4640-822d-7592c1a475a6"
   },
   "outputs": [],
   "source": [
    "org_bar = px.bar(x = top20_orgs.values,\n",
    "                 y = top20_orgs.index,\n",
    "                 orientation='h',\n",
    "                 color=top20_orgs.values,\n",
    "                 color_continuous_scale=px.colors.sequential.haline,\n",
    "                 title='Top 20 Research Institutions by Number of Prizes')\n",
    "\n",
    "org_bar.update_layout(xaxis_title='Number of Prizes', \n",
    "                      yaxis_title='Institution',\n",
    "                      coloraxis_showscale=False)\n",
    "org_bar.show()"
   ]
  },
  {
   "cell_type": "markdown",
   "metadata": {
    "id": "d9AXIRyNo7Mp"
   },
   "source": [
    "# Which Cities Make the Most Discoveries? \n",
    "\n",
    "Where do major discoveries take place?  \n",
    "\n",
    "**Challenge**: \n",
    "* Create another plotly bar chart graphing the top 20 organisation cities of the research institutions associated with a Nobel laureate. \n",
    "* Where is the number one hotspot for discoveries in the world?\n",
    "* Which city in Europe has had the most discoveries?"
   ]
  },
  {
   "cell_type": "code",
   "execution_count": null,
   "metadata": {
    "colab": {
     "base_uri": "https://localhost:8080/",
     "height": 542
    },
    "id": "OUxBKny6o7Mp",
    "outputId": "dbdc1fe4-0350-4c17-f060-886cd155c1c1"
   },
   "outputs": [],
   "source": [
    "top20_org_cities = df_data.organization_city.value_counts()[:20]\n",
    "top20_org_cities.sort_values(ascending=True, inplace=True)\n",
    "city_bar2 = px.bar(x = top20_org_cities.values,\n",
    "                  y = top20_org_cities.index,\n",
    "                  orientation='h',\n",
    "                  color=top20_org_cities.values,\n",
    "                  color_continuous_scale=px.colors.sequential.Plasma,\n",
    "                  title='Which Cities Do the Most Research?')\n",
    "\n",
    "city_bar2.update_layout(xaxis_title='Number of Prizes', \n",
    "                       yaxis_title='City',\n",
    "                       coloraxis_showscale=False)\n",
    "city_bar2.show()"
   ]
  },
  {
   "cell_type": "markdown",
   "metadata": {
    "id": "R6UQrcixo7Mm"
   },
   "source": [
    "# Where are Nobel Laureates Born? Chart the Laureate Birth Cities \n",
    "\n",
    "**Challenge**: \n",
    "* Create a plotly bar chart graphing the top 20 birth cities of Nobel laureates. \n",
    "* Use a named colour scale called `Plasma` for the chart.\n",
    "* What percentage of the United States prizes came from Nobel laureates born in New York? \n",
    "* How many Nobel laureates were born in London, Paris and Vienna? \n",
    "* Out of the top 5 cities, how many are in the United States?\n"
   ]
  },
  {
   "cell_type": "code",
   "execution_count": null,
   "metadata": {
    "colab": {
     "base_uri": "https://localhost:8080/",
     "height": 542
    },
    "id": "orhMdLfQo7Mn",
    "outputId": "2f7c1dc4-d374-48b3-91a3-ac547f5dcd61"
   },
   "outputs": [],
   "source": [
    "top20_cities = df_data.birth_city.value_counts()[:20]\n",
    "top20_cities.sort_values(ascending=True, inplace=True)\n",
    "city_bar = px.bar(x=top20_cities.values,\n",
    "                  y=top20_cities.index,\n",
    "                  orientation='h',\n",
    "                  color=top20_cities.values,\n",
    "                  color_continuous_scale=px.colors.sequential.Plasma,\n",
    "                  title='Where were the Nobel Laureates Born?')\n",
    "\n",
    "city_bar.update_layout(xaxis_title='Number of Prizes', \n",
    "                       yaxis_title='City of Birth',\n",
    "                       coloraxis_showscale=False)\n",
    "city_bar.show()"
   ]
  },
  {
   "cell_type": "markdown",
   "metadata": {
    "id": "YN6KxT5oo7Mq"
   },
   "source": [
    "# Plotly Sunburst Chart: Combine Country, City, and Organisation\n",
    "\n",
    "**Challenge**: \n",
    "\n",
    "* Create a DataFrame that groups the number of prizes by organisation. \n",
    "* Then use the [plotly documentation to create a sunburst chart](https://plotly.com/python/sunburst-charts/)\n",
    "* Click around in your chart, what do you notice about Germany and France? \n",
    "\n",
    "\n",
    "Here's what you're aiming for:\n",
    "\n",
    "<img src=https://i.imgur.com/cemX4m5.png width=300>\n",
    "\n"
   ]
  },
  {
   "cell_type": "code",
   "execution_count": null,
   "metadata": {
    "colab": {
     "base_uri": "https://localhost:8080/",
     "height": 419
    },
    "id": "jvKt2rx9o7Mr",
    "outputId": "03e01fa0-8c7c-4155-ed4a-08c5eb40dddc"
   },
   "outputs": [],
   "source": [
    "country_city_org = df_data.groupby(by=['organization_country', \n",
    "                                       'organization_city', \n",
    "                                       'organization_name'], as_index=False).agg({'prize': pd.Series.count})\n",
    "\n",
    "country_city_org = country_city_org.sort_values('prize', ascending=False)\n",
    "country_city_org"
   ]
  },
  {
   "cell_type": "code",
   "execution_count": null,
   "metadata": {
    "colab": {
     "base_uri": "https://localhost:8080/",
     "height": 542
    },
    "id": "n0MotN_Mo7Ms",
    "outputId": "373d6153-d8d1-4b53-8723-4bc7a627448f"
   },
   "outputs": [],
   "source": [
    "burst = px.sunburst(country_city_org, \n",
    "                    path=['organization_country', 'organization_city', 'organization_name'], \n",
    "                    values='prize',\n",
    "                    title='Where do Discoveries Take Place?',\n",
    "                   )\n",
    "\n",
    "burst.update_layout(xaxis_title='Number of Prizes', \n",
    "                    yaxis_title='City',\n",
    "                    coloraxis_showscale=False)\n",
    "\n",
    "burst.show()"
   ]
  },
  {
   "cell_type": "markdown",
   "metadata": {
    "id": "PW4jvWFWo7Mv"
   },
   "source": [
    "# Patterns in the Laureate Age at the Time of the Award\n",
    "\n",
    "How Old Are the Laureates When the Win the Prize?\n",
    "\n",
    "**Challenge**: Calculate the age of the laureate in the year of the ceremony and add this as a column called `winning_age` to the `df_data` DataFrame. Hint: you can use [this](https://pandas.pydata.org/pandas-docs/stable/reference/api/pandas.Series.dt.html) to help you. \n",
    "\n"
   ]
  },
  {
   "cell_type": "code",
   "execution_count": null,
   "metadata": {
    "colab": {
     "base_uri": "https://localhost:8080/",
     "height": 221
    },
    "id": "j8oMSfdRo7Mv",
    "outputId": "d26ee591-189d-471d-c163-6c88e64a855d"
   },
   "outputs": [],
   "source": [
    "# Use Datetime object\n",
    "birth_years = df_data.birth_date.dt.year\n",
    "birth_years"
   ]
  },
  {
   "cell_type": "code",
   "execution_count": null,
   "metadata": {
    "colab": {
     "base_uri": "https://localhost:8080/",
     "height": 221
    },
    "id": "wI5UUB_ko7Mx",
    "outputId": "0e0b3f76-2547-4553-a385-644638f63a38"
   },
   "outputs": [],
   "source": [
    "df_data['winning_age'] = df_data.year - birth_years\n",
    "df_data.winning_age"
   ]
  },
  {
   "cell_type": "markdown",
   "metadata": {
    "dc": {
     "key": "66"
    },
    "id": "09344hnCo7My",
    "run_control": {
     "frozen": true
    },
    "tags": [
     "context"
    ]
   },
   "source": [
    "### Who were the oldest and youngest winners?\n",
    "\n",
    "**Challenge**: \n",
    "* What are the names of the youngest and oldest Nobel laureate? \n",
    "* What did they win the prize for?\n",
    "* What is the average age of a winner?\n",
    "* 75% of laureates are younger than what age when they receive the prize?\n",
    "* Use Seaborn to [create histogram](https://seaborn.pydata.org/generated/seaborn.histplot.html) to visualise the distribution of laureate age at the time of winning. Experiment with the number of `bins` to see how the visualisation changes."
   ]
  },
  {
   "cell_type": "code",
   "execution_count": null,
   "metadata": {
    "colab": {
     "base_uri": "https://localhost:8080/",
     "height": 282
    },
    "dc": {
     "key": "66"
    },
    "id": "CwDE92nxo7My",
    "outputId": "f9194790-9684-45fe-b290-5fc64bce7978",
    "tags": [
     "sample_code"
    ]
   },
   "outputs": [],
   "source": [
    "display(df_data.nlargest(n=1, columns='winning_age'))\n",
    "display(df_data.nsmallest(n=1, columns='winning_age'))"
   ]
  },
  {
   "cell_type": "markdown",
   "metadata": {
    "id": "UQxMUPddo6fo"
   },
   "source": [
    "### Descriptive Statistics for the Laureate Age at Time of Award\n",
    "\n",
    "* Calculate the descriptive statistics for the age at the time of the award. \n",
    "* Then visualise the distribution in the form of a histogram using [Seaborn's .histplot() function](https://seaborn.pydata.org/generated/seaborn.histplot.html).\n",
    "* Experiment with the `bin` size. Try 10, 20, 30, and 50.  "
   ]
  },
  {
   "cell_type": "code",
   "execution_count": null,
   "metadata": {
    "colab": {
     "base_uri": "https://localhost:8080/",
     "height": 170
    },
    "id": "9G6XORK5o7M0",
    "outputId": "d7350329-5147-4159-ef88-826999dc682a"
   },
   "outputs": [],
   "source": [
    "df_data.winning_age.describe()"
   ]
  },
  {
   "cell_type": "code",
   "execution_count": null,
   "metadata": {
    "colab": {
     "base_uri": "https://localhost:8080/",
     "height": 607
    },
    "id": "aceMI6J-o7M1",
    "outputId": "1bf4f423-4c73-482c-b13c-f1af1793b2c3"
   },
   "outputs": [],
   "source": [
    "plt.figure(figsize=(8, 4), dpi=200)\n",
    "sns.histplot(data=df_data,\n",
    "             x=df_data.winning_age,\n",
    "             bins=30)\n",
    "plt.xlabel('Age')\n",
    "plt.title('Distribution of Age on Receipt of Prize')\n",
    "plt.show()"
   ]
  },
  {
   "cell_type": "markdown",
   "metadata": {
    "id": "gljdi8sxpkg7"
   },
   "source": [
    "### Age at Time of Award throughout History\n",
    "\n",
    "Are Nobel laureates being nominated later in life than before? Have the ages of laureates at the time of the award increased or decreased over time?\n",
    "\n",
    "**Challenge**\n",
    "\n",
    "* Use Seaborn to [create a .regplot](https://seaborn.pydata.org/generated/seaborn.regplot.html?highlight=regplot#seaborn.regplot) with a trendline.\n",
    "* Set the `lowess` parameter to `True` to show a moving average of the linear fit.\n",
    "* According to the best fit line, how old were Nobel laureates in the years 1900-1940 when they were awarded the prize?\n",
    "* According to the best fit line, what age would it predict for a Nobel laureate in 2020?\n"
   ]
  },
  {
   "cell_type": "code",
   "execution_count": null,
   "metadata": {
    "colab": {
     "base_uri": "https://localhost:8080/",
     "height": 628
    },
    "id": "6ztBT7pro7M3",
    "outputId": "d37c6ee8-6530-4e67-8da7-dc7ba8e59146"
   },
   "outputs": [],
   "source": [
    "plt.figure(figsize=(8,4), dpi=200)\n",
    "with sns.axes_style(\"whitegrid\"):\n",
    "    sns.regplot(data=df_data,\n",
    "                x='year',\n",
    "                y='winning_age',\n",
    "                lowess=True, \n",
    "                scatter_kws = {'alpha': 0.4},\n",
    "                line_kws={'color': 'black'})\n",
    "\n",
    "plt.show()"
   ]
  },
  {
   "cell_type": "markdown",
   "metadata": {
    "dc": {
     "key": "59"
    },
    "id": "CPFMftF9o7M5",
    "run_control": {
     "frozen": true
    },
    "tags": [
     "context"
    ]
   },
   "source": [
    "### Winning Age Across the Nobel Prize Categories\n",
    "\n",
    "How does the age of laureates vary by category? \n",
    "\n",
    "* Use Seaborn's [`.boxplot()`](https://seaborn.pydata.org/generated/seaborn.boxplot.html?highlight=boxplot#seaborn.boxplot) to show how the mean, quartiles, max, and minimum values vary across categories. Which category has the longest \"whiskers\"? \n",
    "* In which prize category are the average winners the oldest?\n",
    "* In which prize category are the average winners the youngest?"
   ]
  },
  {
   "cell_type": "code",
   "execution_count": null,
   "metadata": {
    "colab": {
     "base_uri": "https://localhost:8080/",
     "height": 574
    },
    "id": "bxiA1wlSo7M-",
    "outputId": "e16f4031-5063-49ca-c440-b8ca773e8f25"
   },
   "outputs": [],
   "source": [
    "plt.figure(figsize=(8,4), dpi=200)\n",
    "with sns.axes_style(\"whitegrid\"):\n",
    "    sns.boxplot(data=df_data,\n",
    "                x='category',\n",
    "                y='winning_age')\n",
    "\n",
    "plt.show()"
   ]
  },
  {
   "cell_type": "code",
   "execution_count": null,
   "metadata": {
    "colab": {
     "base_uri": "https://localhost:8080/",
     "height": 542
    },
    "dc": {
     "key": "73"
    },
    "id": "B4TDWrB8o7M8",
    "outputId": "b1aad1e5-e5ab-46fa-e85f-f0173236249f",
    "tags": [
     "sample_code"
    ]
   },
   "outputs": [],
   "source": [
    "# Box plot using plotly instead\n",
    "box = px.box(df_data, \n",
    "             x='category', \n",
    "             y='winning_age',\n",
    "             title='How old are the Winners?')\n",
    "\n",
    "box.update_layout(xaxis_title='Category',\n",
    "                  yaxis_title='Age at time of Award',\n",
    "                  xaxis={'categoryorder':'mean ascending'},)\n",
    "\n",
    "box.show()"
   ]
  },
  {
   "cell_type": "markdown",
   "metadata": {
    "id": "M9qE0P4-8i5L"
   },
   "source": [
    "**Challenge**\n",
    "* Now use Seaborn's [`.lmplot()`](https://seaborn.pydata.org/generated/seaborn.lmplot.html?highlight=lmplot#seaborn.lmplot) and the `row` parameter to create 6 separate charts for each prize category. Again set `lowess` to `True`.\n",
    "* What are the winning age trends in each category? \n",
    "* Which category has the age trending up and which category has the age trending down? \n",
    "* Is this `.lmplot()` telling a different story from the `.boxplot()`?\n",
    "* Create another chart with Seaborn. This time use `.lmplot()` to put all 6 categories on the same chart using the `hue` parameter. \n"
   ]
  },
  {
   "cell_type": "code",
   "execution_count": null,
   "metadata": {
    "colab": {
     "base_uri": "https://localhost:8080/",
     "height": 1000
    },
    "dc": {
     "key": "59"
    },
    "id": "EAjl33duo7M6",
    "outputId": "31434d7b-2c0c-4190-a911-eb0304b9b690",
    "scrolled": false,
    "tags": [
     "sample_code"
    ]
   },
   "outputs": [],
   "source": [
    "with sns.axes_style('whitegrid'):\n",
    "    sns.lmplot(data=df_data,\n",
    "               x='year', \n",
    "               y='winning_age',\n",
    "               row = 'category',\n",
    "               lowess=True, \n",
    "               aspect=2,\n",
    "               scatter_kws = {'alpha': 0.6},\n",
    "               line_kws = {'color': 'black'},)\n",
    "\n",
    "plt.show()"
   ]
  },
  {
   "cell_type": "code",
   "execution_count": null,
   "metadata": {
    "colab": {
     "base_uri": "https://localhost:8080/",
     "height": 383
    },
    "id": "5UKmS0VHo7M7",
    "outputId": "3520fe5d-906b-462f-812a-765dfbce55de"
   },
   "outputs": [],
   "source": [
    "with sns.axes_style(\"whitegrid\"):\n",
    "    sns.lmplot(data=df_data,\n",
    "               x='year',\n",
    "               y='winning_age',\n",
    "               hue='category',\n",
    "               lowess=True, \n",
    "               aspect=2,\n",
    "               scatter_kws={'alpha': 0.5},\n",
    "               line_kws={'linewidth': 5})\n",
    "\n",
    "plt.show()"
   ]
  },
  {
   "cell_type": "code",
   "execution_count": null,
   "metadata": {
    "id": "PJD0-Opko7M_"
   },
   "outputs": [],
   "source": []
  },
  {
   "cell_type": "code",
   "execution_count": null,
   "metadata": {
    "id": "9F9f_2HZo7NA"
   },
   "outputs": [],
   "source": []
  }
 ],
 "metadata": {
  "colab": {
   "name": "Nobel Prize Analysis (complete).ipynb",
   "provenance": []
  },
  "kernelspec": {
   "display_name": "Python 3 (ipykernel)",
   "language": "python",
   "name": "python3"
  },
  "language_info": {
   "codemirror_mode": {
    "name": "ipython",
    "version": 3
   },
   "file_extension": ".py",
   "mimetype": "text/x-python",
   "name": "python",
   "nbconvert_exporter": "python",
   "pygments_lexer": "ipython3",
   "version": "3.10.5"
  }
 },
 "nbformat": 4,
 "nbformat_minor": 1
}
