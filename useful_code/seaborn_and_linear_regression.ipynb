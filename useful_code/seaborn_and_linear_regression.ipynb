{
 "cells": [
  {
   "cell_type": "markdown",
   "metadata": {
    "id": "gltiGJhvrzaL"
   },
   "source": [
    "# Introduction\n",
    "\n",
    "Do higher film budgets lead to more box office revenue? Let's find out if there's a relationship using the movie budgets and financial performance data that I've scraped from [the-numbers.com](https://www.the-numbers.com/movie/budgets) on **May 1st, 2018**. \n",
    "\n",
    "<img src=https://i.imgur.com/kq7hrEh.png>"
   ]
  },
  {
   "cell_type": "markdown",
   "metadata": {
    "id": "zkLrvlKvtdih"
   },
   "source": [
    "# Import Statements"
   ]
  },
  {
   "cell_type": "code",
   "execution_count": null,
   "metadata": {
    "id": "NpDk_q_Urroj"
   },
   "outputs": [],
   "source": [
    "import pandas as pd\n",
    "import matplotlib.pyplot as plt\n",
    "\n",
    "import seaborn as sns\n",
    "from sklearn.linear_model import LinearRegression"
   ]
  },
  {
   "cell_type": "markdown",
   "metadata": {
    "id": "x5B-UDvXtnC6"
   },
   "source": [
    "# Notebook Presentation"
   ]
  },
  {
   "cell_type": "code",
   "execution_count": null,
   "metadata": {
    "id": "nM_otvWztjpT"
   },
   "outputs": [],
   "source": [
    "pd.options.display.float_format = '{:,.2f}'.format\n",
    "\n",
    "from pandas.plotting import register_matplotlib_converters\n",
    "register_matplotlib_converters()"
   ]
  },
  {
   "cell_type": "markdown",
   "metadata": {
    "id": "v-fnwNYJtthe"
   },
   "source": [
    "# Read the Data"
   ]
  },
  {
   "cell_type": "code",
   "execution_count": null,
   "metadata": {
    "id": "xhwvQQWitrf4"
   },
   "outputs": [],
   "source": [
    "data = pd.read_csv('cost_revenue_dirty.csv')"
   ]
  },
  {
   "cell_type": "markdown",
   "metadata": {
    "id": "tbg8_J5SuHhs"
   },
   "source": [
    "# Explore and Clean the Data"
   ]
  },
  {
   "cell_type": "markdown",
   "metadata": {
    "id": "xAtdcURCuL0Z"
   },
   "source": [
    "**Challenge**: Answer these questions about the dataset:\n",
    "1. How many rows and columns does the dataset contain?\n",
    "2. Are there any NaN values present?\n",
    "3. Are there any duplicate rows?\n",
    "4. What are the data types of the columns?"
   ]
  },
  {
   "cell_type": "code",
   "execution_count": null,
   "metadata": {
    "colab": {
     "base_uri": "https://localhost:8080/",
     "height": 34
    },
    "id": "0isUHdlZulb1",
    "outputId": "face9482-5f1d-4507-b781-31fcbf8a20c2"
   },
   "outputs": [],
   "source": [
    "data.shape"
   ]
  },
  {
   "cell_type": "code",
   "execution_count": null,
   "metadata": {
    "colab": {
     "base_uri": "https://localhost:8080/",
     "height": 204
    },
    "id": "UR4e1lbmcwsT",
    "outputId": "198a416e-c0f9-42aa-908c-7b7c277fd76c"
   },
   "outputs": [],
   "source": [
    "data.sample(5)"
   ]
  },
  {
   "cell_type": "code",
   "execution_count": null,
   "metadata": {
    "colab": {
     "base_uri": "https://localhost:8080/",
     "height": 221
    },
    "id": "v-RPG-shcyRf",
    "outputId": "da5b6451-6569-40aa-c84b-98c7275ca9a9"
   },
   "outputs": [],
   "source": [
    "data.tail()"
   ]
  },
  {
   "cell_type": "code",
   "execution_count": null,
   "metadata": {
    "colab": {
     "base_uri": "https://localhost:8080/",
     "height": 34
    },
    "id": "jczXLtJKiTA3",
    "outputId": "b480beda-09a4-4714-bf61-e440cc0ad872"
   },
   "outputs": [],
   "source": [
    "print(f'Any NaN values among the data? {data.isna().values.any()}')"
   ]
  },
  {
   "cell_type": "code",
   "execution_count": null,
   "metadata": {
    "colab": {
     "base_uri": "https://localhost:8080/",
     "height": 51
    },
    "id": "wIpcCtn9icR0",
    "outputId": "74ba82c4-17dd-4b28-b729-da90da72ccbd"
   },
   "outputs": [],
   "source": [
    "print(f'Any duplicates? {data.duplicated().values.any()}')\n",
    "\n",
    "duplicated_rows = data[data.duplicated()]\n",
    "print(f'Number of duplicates: {len(duplicated_rows)}')"
   ]
  },
  {
   "cell_type": "code",
   "execution_count": null,
   "metadata": {
    "colab": {
     "base_uri": "https://localhost:8080/",
     "height": 238
    },
    "id": "d4YnrL0hj-v0",
    "outputId": "c1e0ae4a-f853-47e1-9306-5a63a3ae80ab"
   },
   "outputs": [],
   "source": [
    "# Show NaN values and data types per column\n",
    "data.info()"
   ]
  },
  {
   "cell_type": "markdown",
   "metadata": {
    "id": "v8spadDNvpVG"
   },
   "source": [
    "### Data Type Conversions"
   ]
  },
  {
   "cell_type": "markdown",
   "metadata": {
    "id": "9F8KFST4ulrd"
   },
   "source": [
    "**Challenge**: Convert the `USD_Production_Budget`, `USD_Worldwide_Gross`, and `USD_Domestic_Gross` columns to a numeric format by removing `$` signs and `,`. \n",
    "<br>\n",
    "<br>\n",
    "Note that *domestic* in this context refers to the United States."
   ]
  },
  {
   "cell_type": "code",
   "execution_count": null,
   "metadata": {
    "id": "bbd78DD6t6ju"
   },
   "outputs": [],
   "source": [
    "chars_to_remove = [',', '$']\n",
    "columns_to_clean = ['USD_Production_Budget', \n",
    "                    'USD_Worldwide_Gross',\n",
    "                    'USD_Domestic_Gross']\n",
    "\n",
    "for col in columns_to_clean:\n",
    "    for char in chars_to_remove:\n",
    "        # Replace each character with an empty string\n",
    "        data[col] = data[col].astype(str).str.replace(char, \"\")\n",
    "    # Convert column to a numeric data type\n",
    "    data[col] = pd.to_numeric(data[col])"
   ]
  },
  {
   "cell_type": "code",
   "execution_count": null,
   "metadata": {
    "colab": {
     "base_uri": "https://localhost:8080/",
     "height": 0
    },
    "id": "rtKWX6-DoKey",
    "outputId": "b7f62388-1ba6-408a-a7cb-de7ba302dc7e"
   },
   "outputs": [],
   "source": [
    "data.head()"
   ]
  },
  {
   "cell_type": "markdown",
   "metadata": {
    "id": "cA01iJHkvWhl"
   },
   "source": [
    "**Challenge**: Convert the `Release_Date` column to a Pandas Datetime type. "
   ]
  },
  {
   "cell_type": "code",
   "execution_count": null,
   "metadata": {
    "colab": {
     "base_uri": "https://localhost:8080/",
     "height": 0
    },
    "id": "fC0qFbtVvN1r",
    "outputId": "5a4d2e6d-b735-44ca-9e43-c9e47fe5d12c"
   },
   "outputs": [],
   "source": [
    "data.Release_Date = pd.to_datetime(data.Release_Date)\n",
    "data.head()"
   ]
  },
  {
   "cell_type": "code",
   "execution_count": null,
   "metadata": {
    "colab": {
     "base_uri": "https://localhost:8080/",
     "height": 0
    },
    "id": "qD4lv7EJomEz",
    "outputId": "75a5a89d-57d4-448b-b8aa-89bbaf8d65e0"
   },
   "outputs": [],
   "source": [
    "data.info()"
   ]
  },
  {
   "cell_type": "markdown",
   "metadata": {
    "id": "NkwmJO3tvt5i"
   },
   "source": [
    "### Descriptive Statistics"
   ]
  },
  {
   "cell_type": "markdown",
   "metadata": {
    "id": "bnb54thrvx5r"
   },
   "source": [
    "**Challenge**: \n",
    "\n",
    "1. What is the average production budget of the films in the data set?\n",
    "2. What is the average worldwide gross revenue of films?\n",
    "3. What were the minimums for worldwide and domestic revenue?\n",
    "4. Are the bottom 25% of films actually profitable or do they lose money?\n",
    "5. What are the highest production budget and highest worldwide gross revenue of any film?\n",
    "6. How much revenue did the lowest and highest budget films make?"
   ]
  },
  {
   "cell_type": "code",
   "execution_count": null,
   "metadata": {
    "colab": {
     "base_uri": "https://localhost:8080/",
     "height": 0
    },
    "id": "SoJW-X4lvweo",
    "outputId": "16c91ef5-bda9-4b6f-ee01-e9600109d099"
   },
   "outputs": [],
   "source": [
    "data.describe()"
   ]
  },
  {
   "cell_type": "code",
   "execution_count": null,
   "metadata": {
    "colab": {
     "base_uri": "https://localhost:8080/",
     "height": 0
    },
    "id": "L3ISNeQFJuH0",
    "outputId": "06715e5d-2027-4178-b7dd-3e14ef9f22f3"
   },
   "outputs": [],
   "source": [
    "data[data.USD_Production_Budget == 1100.00]"
   ]
  },
  {
   "cell_type": "code",
   "execution_count": null,
   "metadata": {
    "colab": {
     "base_uri": "https://localhost:8080/",
     "height": 0
    },
    "id": "Tj1ODm7exTBP",
    "outputId": "5c1934ff-3c8b-41e8-ca57-8d02222e3c2f"
   },
   "outputs": [],
   "source": [
    "data[data.USD_Production_Budget == 425000000.00]"
   ]
  },
  {
   "cell_type": "markdown",
   "metadata": {
    "id": "Cj-ug32JyEhp"
   },
   "source": [
    "# Investigating the Zero Revenue Films"
   ]
  },
  {
   "cell_type": "markdown",
   "metadata": {
    "id": "U9hm-pb4xTjY"
   },
   "source": [
    "**Challenge** How many films grossed $0 domestically (i.e., in the United States)? What were the highest budget films that grossed nothing?"
   ]
  },
  {
   "cell_type": "code",
   "execution_count": null,
   "metadata": {
    "colab": {
     "base_uri": "https://localhost:8080/",
     "height": 470
    },
    "id": "kWEhsGXLx7Fh",
    "outputId": "ac201ffc-dc13-48f5-a9af-fb1bacc9848a"
   },
   "outputs": [],
   "source": [
    "zero_domestic = data[data.USD_Domestic_Gross == 0]\n",
    "print(f'Number of films that grossed $0 domestically {len(zero_domestic)}')\n",
    "zero_domestic.sort_values('USD_Production_Budget', ascending=False)"
   ]
  },
  {
   "cell_type": "markdown",
   "metadata": {
    "id": "mY8SAwI0x73b"
   },
   "source": [
    "**Challenge**: How many films grossed $0 worldwide? What are the highest budget films that had no revenue internationally?"
   ]
  },
  {
   "cell_type": "code",
   "execution_count": null,
   "metadata": {
    "colab": {
     "base_uri": "https://localhost:8080/",
     "height": 453
    },
    "id": "RZ8jz8msyR29",
    "outputId": "b47339a8-6801-47e7-dbc1-4fad803795bf"
   },
   "outputs": [],
   "source": [
    "zero_worldwide = data[data.USD_Worldwide_Gross == 0]\n",
    "print(f'Number of films that grossed $0 worldwide {len(zero_worldwide)}')\n",
    "zero_worldwide.sort_values('USD_Production_Budget', ascending=False)"
   ]
  },
  {
   "cell_type": "markdown",
   "metadata": {
    "id": "eXUDzWpeyV2f"
   },
   "source": [
    "### Filtering on Multiple Conditions"
   ]
  },
  {
   "cell_type": "code",
   "execution_count": null,
   "metadata": {
    "colab": {
     "base_uri": "https://localhost:8080/",
     "height": 0
    },
    "id": "_HBWlC4cyY_d",
    "outputId": "6e1546cb-485f-4b95-907c-4bba69db5d75"
   },
   "outputs": [],
   "source": [
    "international_releases = data.loc[(data.USD_Domestic_Gross == 0) & \n",
    "                                  (data.USD_Worldwide_Gross != 0)]\n",
    "print(f'Number of international releases: {len(international_releases)}')\n",
    "international_releases.head()"
   ]
  },
  {
   "cell_type": "markdown",
   "metadata": {
    "id": "YruPjqLVPuiB"
   },
   "source": [
    "**Challenge**: Use the [`.query()` function](https://pandas.pydata.org/pandas-docs/stable/reference/api/pandas.DataFrame.query.html) to accomplish the same thing. Create a subset for international releases that had some worldwide gross revenue, but made zero revenue in the United States. \n",
    "\n",
    "Hint: This time you'll have to use the `and` keyword."
   ]
  },
  {
   "cell_type": "code",
   "execution_count": null,
   "metadata": {
    "colab": {
     "base_uri": "https://localhost:8080/",
     "height": 0
    },
    "id": "op6n-4pYPpts",
    "outputId": "750acc4b-efbc-43d0-ce25-d8641b532feb"
   },
   "outputs": [],
   "source": [
    "international_releases = data.query('USD_Domestic_Gross == 0 and USD_Worldwide_Gross != 0')\n",
    "print(f'Number of international releases: {len(international_releases)}')\n",
    "international_releases.tail()"
   ]
  },
  {
   "cell_type": "markdown",
   "metadata": {
    "id": "EM-FTE4OZhfr"
   },
   "source": [
    "### Unreleased Films\n",
    "\n",
    "**Challenge**:\n",
    "* Identify which films were not released yet as of the time of data collection (May 1st, 2018).\n",
    "* How many films are included in the dataset that have not yet had a chance to be screened in the box office? \n",
    "* Create another DataFrame called data_clean that does not include these films. "
   ]
  },
  {
   "cell_type": "code",
   "execution_count": null,
   "metadata": {
    "id": "PIukYVY9Zpxu"
   },
   "outputs": [],
   "source": [
    "# Date of Data Collection\n",
    "scrape_date = pd.Timestamp('2018-5-1')"
   ]
  },
  {
   "cell_type": "code",
   "execution_count": null,
   "metadata": {
    "colab": {
     "base_uri": "https://localhost:8080/",
     "height": 0
    },
    "id": "EvoWvKCTZsi7",
    "outputId": "2bc00876-ac41-474e-9db9-99ac9d7ef227"
   },
   "outputs": [],
   "source": [
    "future_releases = data[data.Release_Date >= scrape_date]\n",
    "print(f'Number of unreleased movies: {len(future_releases)}')\n",
    "future_releases"
   ]
  },
  {
   "cell_type": "code",
   "execution_count": null,
   "metadata": {
    "id": "VRkvJskKaSGT"
   },
   "outputs": [],
   "source": [
    "# exclude future releases\n",
    "data_clean = data.drop(future_releases.index)"
   ]
  },
  {
   "cell_type": "code",
   "execution_count": null,
   "metadata": {
    "colab": {
     "base_uri": "https://localhost:8080/",
     "height": 0
    },
    "id": "Utz7rgdHaYcn",
    "outputId": "66a16401-6cca-4de9-9e0e-cf00bb01546c"
   },
   "outputs": [],
   "source": [
    "# difference is 7 rows\n",
    "data.shape[0] - data_clean.shape[0]"
   ]
  },
  {
   "cell_type": "markdown",
   "metadata": {
    "id": "khrJcXlGZWZO"
   },
   "source": [
    "### Films that Lost Money\n",
    "\n",
    "**Challenge**: \n",
    "What is the percentage of films where the production costs exceeded the worldwide gross revenue? "
   ]
  },
  {
   "cell_type": "code",
   "execution_count": null,
   "metadata": {
    "colab": {
     "base_uri": "https://localhost:8080/",
     "height": 0
    },
    "id": "b2i9pAtNZdtv",
    "outputId": "485c7d85-f0bd-447c-897a-38cd89d35f79"
   },
   "outputs": [],
   "source": [
    "money_losing = data_clean.loc[data_clean.USD_Production_Budget > data_clean.USD_Worldwide_Gross]\n",
    "len(money_losing)/len(data_clean)"
   ]
  },
  {
   "cell_type": "code",
   "execution_count": null,
   "metadata": {
    "colab": {
     "base_uri": "https://localhost:8080/",
     "height": 0
    },
    "id": "RwYI_6ypdOir",
    "outputId": "755bbcf6-7e1a-4a08-d361-d2b0f98fc01c"
   },
   "outputs": [],
   "source": [
    "money_losing = data_clean.query('USD_Production_Budget > USD_Worldwide_Gross')\n",
    "money_losing.shape[0]/data_clean.shape[0]"
   ]
  },
  {
   "cell_type": "markdown",
   "metadata": {
    "id": "cfJUL3WwyiDy"
   },
   "source": [
    "# Seaborn for Data Viz: Bubble Charts"
   ]
  },
  {
   "cell_type": "code",
   "execution_count": null,
   "metadata": {
    "colab": {
     "base_uri": "https://localhost:8080/",
     "height": 506
    },
    "id": "gw5Ia5JyynLM",
    "outputId": "ae02ff51-8f81-41fa-eb8f-a15853aa9f6d"
   },
   "outputs": [],
   "source": [
    "plt.figure(figsize=(8,4), dpi=200)\n",
    "\n",
    "ax = sns.scatterplot(data=data_clean,\n",
    "                     x='USD_Production_Budget', \n",
    "                     y='USD_Worldwide_Gross')\n",
    "\n",
    "ax.set(ylim=(0, 3000000000),\n",
    "       xlim=(0, 450000000),\n",
    "       ylabel='Revenue in $ billions',\n",
    "       xlabel='Budget in $100 millions')\n",
    "\n",
    "plt.show()"
   ]
  },
  {
   "cell_type": "code",
   "execution_count": null,
   "metadata": {
    "colab": {
     "base_uri": "https://localhost:8080/",
     "height": 506
    },
    "id": "MBwBVmtnlTbi",
    "outputId": "f3a30a9d-3258-4154-fb25-e3d75d5cbb41"
   },
   "outputs": [],
   "source": [
    "plt.figure(figsize=(8,4), dpi=200)\n",
    "ax = sns.scatterplot(data=data_clean,\n",
    "                     x='USD_Production_Budget', \n",
    "                     y='USD_Worldwide_Gross',\n",
    "                     hue='USD_Worldwide_Gross', # change colour\n",
    "                     size='USD_Worldwide_Gross',) # change size of dot\n",
    "\n",
    "ax.set(ylim=(0, 3000000000),\n",
    "       xlim=(0, 450000000),\n",
    "       ylabel='Revenue in $ billions',\n",
    "       xlabel='Budget in $100 millions',)\n",
    "\n",
    "plt.show()"
   ]
  },
  {
   "cell_type": "code",
   "execution_count": null,
   "metadata": {
    "colab": {
     "base_uri": "https://localhost:8080/",
     "height": 506
    },
    "id": "yfUuICcWmdPd",
    "outputId": "d4fa0bba-4bad-45ee-db05-d84cec90810d"
   },
   "outputs": [],
   "source": [
    "plt.figure(figsize=(8,4), dpi=200)\n",
    "\n",
    "# set styling on a single chart\n",
    "with sns.axes_style('darkgrid'):\n",
    "  ax = sns.scatterplot(data=data_clean,\n",
    "                       x='USD_Production_Budget', \n",
    "                       y='USD_Worldwide_Gross',\n",
    "                       hue='USD_Worldwide_Gross',\n",
    "                       size='USD_Worldwide_Gross')\n",
    "\n",
    "  ax.set(ylim=(0, 3000000000),\n",
    "        xlim=(0, 450000000),\n",
    "        ylabel='Revenue in $ billions',\n",
    "        xlabel='Budget in $100 millions')"
   ]
  },
  {
   "cell_type": "markdown",
   "metadata": {
    "id": "e7NIOiL2y3en"
   },
   "source": [
    "### Plotting Movie Releases over Time\n",
    "\n",
    "**Challenge**: Try to create the following Bubble Chart:\n",
    "\n",
    "<img src=https://i.imgur.com/8fUn9T6.png>\n",
    "\n"
   ]
  },
  {
   "cell_type": "code",
   "execution_count": null,
   "metadata": {
    "colab": {
     "base_uri": "https://localhost:8080/",
     "height": 0
    },
    "id": "s6He_8uKy6ae",
    "outputId": "b326ff59-aa03-4f9d-df96-accc6f4db594"
   },
   "outputs": [],
   "source": [
    "plt.figure(figsize=(8,4), dpi=200)\n",
    "\n",
    "with sns.axes_style(\"darkgrid\"):\n",
    "    ax = sns.scatterplot(data=data_clean, \n",
    "                    x='Release_Date', \n",
    "                    y='USD_Production_Budget',\n",
    "                    hue='USD_Worldwide_Gross',\n",
    "                    size='USD_Worldwide_Gross',)\n",
    "\n",
    "    ax.set(ylim=(0, 450000000),\n",
    "           xlim=(data_clean.Release_Date.min(), data_clean.Release_Date.max()),\n",
    "           xlabel='Year',\n",
    "           ylabel='Budget in $100 millions')\n"
   ]
  },
  {
   "cell_type": "markdown",
   "metadata": {
    "id": "r_2hFz9py84b"
   },
   "source": [
    "# Converting Years to Decades Trick\n",
    "\n",
    "**Challenge**: Create a column in `data_clean` that has the decade of the release. \n",
    "\n",
    "<img src=https://i.imgur.com/0VEfagw.png width=650> \n",
    "\n",
    "Here's how: \n",
    "1. Create a [`DatetimeIndex` object](https://pandas.pydata.org/pandas-docs/stable/reference/api/pandas.DatetimeIndex.html) from the Release_Date column. \n",
    "2. Grab all the years from the `DatetimeIndex` object using the `.year` property.\n",
    "<img src=https://i.imgur.com/5m06Ach.png width=650>\n",
    "3. Use floor division `//` to convert the year data to the decades of the films.\n",
    "4. Add the decades as a `Decade` column to the `data_clean` DataFrame."
   ]
  },
  {
   "cell_type": "code",
   "execution_count": null,
   "metadata": {
    "id": "yrFzFBGgzGDX"
   },
   "outputs": [],
   "source": [
    "dt_index = pd.DatetimeIndex(data_clean.Release_Date)\n",
    "years = dt_index.year"
   ]
  },
  {
   "cell_type": "code",
   "execution_count": null,
   "metadata": {
    "colab": {
     "base_uri": "https://localhost:8080/",
     "height": 34
    },
    "id": "dKzZJ4kDGA2V",
    "outputId": "3b29397c-f64a-43ae-cfcd-63dfb19626da"
   },
   "outputs": [],
   "source": [
    "# How to convert the year 1999 to the 90s decade\n",
    "1999//10"
   ]
  },
  {
   "cell_type": "code",
   "execution_count": null,
   "metadata": {
    "colab": {
     "base_uri": "https://localhost:8080/",
     "height": 34
    },
    "id": "zR3keN9LGEFm",
    "outputId": "81c72ce2-f244-49b2-e6db-c5174c0245ab"
   },
   "outputs": [],
   "source": [
    "199*10"
   ]
  },
  {
   "cell_type": "code",
   "execution_count": null,
   "metadata": {
    "id": "yW1dHfFX8VzU"
   },
   "outputs": [],
   "source": [
    "decades = years//10*10\n",
    "data_clean['Decade'] = decades"
   ]
  },
  {
   "cell_type": "markdown",
   "metadata": {
    "id": "q-X7NK_9zIz9"
   },
   "source": [
    "### Separate the \"old\" (before 1969) and \"New\" (1970s onwards) Films\n",
    "\n",
    "**Challenge**: Create two new DataFrames: `old_films` and `new_films`\n",
    "* `old_films` should include all the films before 1969 (up to and including 1969)\n",
    "* `new_films` should include all the films from 1970 onwards\n",
    "* How many films were released prior to 1970?\n",
    "* What was the most expensive film made prior to 1970?"
   ]
  },
  {
   "cell_type": "code",
   "execution_count": null,
   "metadata": {
    "id": "cP6B3b3KzT7U"
   },
   "outputs": [],
   "source": [
    "old_films = data_clean[data_clean.Decade <= 1960]\n",
    "new_films = data_clean[data_clean.Decade > 1960]"
   ]
  },
  {
   "cell_type": "code",
   "execution_count": null,
   "metadata": {
    "colab": {
     "base_uri": "https://localhost:8080/",
     "height": 297
    },
    "id": "EJ4kzzOwJjWI",
    "outputId": "3ba66f0a-2ef5-4feb-d1c6-200962c74c5e"
   },
   "outputs": [],
   "source": [
    "old_films.describe()"
   ]
  },
  {
   "cell_type": "code",
   "execution_count": null,
   "metadata": {
    "colab": {
     "base_uri": "https://localhost:8080/",
     "height": 258
    },
    "id": "IASLRt5NJnmq",
    "outputId": "5469d8d4-8df6-40b6-ea15-07781579f2a1"
   },
   "outputs": [],
   "source": [
    "old_films.sort_values('USD_Production_Budget', ascending=False).head()"
   ]
  },
  {
   "cell_type": "markdown",
   "metadata": {
    "id": "msXABzF3zW7e"
   },
   "source": [
    "# Seaborn Regression Plots"
   ]
  },
  {
   "cell_type": "code",
   "execution_count": null,
   "metadata": {
    "colab": {
     "base_uri": "https://localhost:8080/",
     "height": 308
    },
    "id": "rmphtU_BN_k8",
    "outputId": "bf34f47c-5c04-4d6d-ca8a-a7a3651ed373"
   },
   "outputs": [],
   "source": [
    "sns.regplot(data=old_films, \n",
    "            x='USD_Production_Budget',\n",
    "            y='USD_Worldwide_Gross')"
   ]
  },
  {
   "cell_type": "code",
   "execution_count": null,
   "metadata": {
    "colab": {
     "base_uri": "https://localhost:8080/",
     "height": 514
    },
    "id": "cIM94YWxzjYK",
    "outputId": "9ec3badb-b28c-452e-b38e-780632f6ab9f"
   },
   "outputs": [],
   "source": [
    "plt.figure(figsize=(8,4), dpi=200)\n",
    "with sns.axes_style(\"whitegrid\"):\n",
    "  sns.regplot(data=old_films, \n",
    "            x='USD_Production_Budget', \n",
    "            y='USD_Worldwide_Gross',\n",
    "            scatter_kws = {'alpha': 0.4},\n",
    "            line_kws = {'color': 'black'})"
   ]
  },
  {
   "cell_type": "markdown",
   "metadata": {
    "id": "6k4MeLmxWFwX"
   },
   "source": [
    "**Challenge**: Use Seaborn's `.regplot()` to show the scatter plot and linear regression line against the `new_films`. \n",
    "<br>\n",
    "<br>\n",
    "Style the chart\n",
    "\n",
    "* Put the chart on a `'darkgrid'`.\n",
    "* Set limits on the axes so that they don't show negative values.\n",
    "* Label the axes on the plot \"Revenue in \\$ billions\" and \"Budget in \\$ millions\".\n",
    "* Provide HEX colour codes for the plot and the regression line. Make the dots dark blue (#2f4b7c) and the line orange (#ff7c43).\n",
    "\n",
    "Interpret the chart\n",
    "\n",
    "* Do our data points for the new films align better or worse with the linear regression than for our older films?\n",
    "* Roughly how much would a film with a budget of $150 million make according to the regression line?"
   ]
  },
  {
   "cell_type": "code",
   "execution_count": null,
   "metadata": {
    "colab": {
     "base_uri": "https://localhost:8080/",
     "height": 506
    },
    "id": "VoVnuJBFRVLf",
    "outputId": "95666574-dbbc-42b1-fdb4-3c1049cfd8ba"
   },
   "outputs": [],
   "source": [
    "plt.figure(figsize=(8,4), dpi=200)\n",
    "with sns.axes_style('darkgrid'):\n",
    "  ax = sns.regplot(data=new_films,\n",
    "                   x='USD_Production_Budget',\n",
    "                   y='USD_Worldwide_Gross',\n",
    "                   color='#2f4b7c',\n",
    "                   scatter_kws = {'alpha': 0.3},\n",
    "                   line_kws = {'color': '#ff7c43'})\n",
    "  \n",
    "  ax.set(ylim=(0, 3000000000),\n",
    "         xlim=(0, 450000000),\n",
    "         ylabel='Revenue in $ billions',\n",
    "         xlabel='Budget in $100 millions')"
   ]
  },
  {
   "cell_type": "markdown",
   "metadata": {
    "id": "Q1SUPPMAzlVK"
   },
   "source": [
    "# Run Your Own Regression with scikit-learn\n",
    "\n",
    "Our Linear Model:\n",
    "\n",
    "$$ REV \\hat ENUE = \\theta _0 + \\theta _1 BUDGET$$"
   ]
  },
  {
   "cell_type": "code",
   "execution_count": null,
   "metadata": {
    "id": "KBmqA2atz3bG"
   },
   "outputs": [],
   "source": [
    "# Create regression object\n",
    "regression = LinearRegression()"
   ]
  },
  {
   "cell_type": "code",
   "execution_count": null,
   "metadata": {
    "id": "F4ETyfUqJWnv"
   },
   "outputs": [],
   "source": [
    "# Explanatory Variable(s) or Feature(s)\n",
    "X = pd.DataFrame(new_films, columns=['USD_Production_Budget'])\n",
    "\n",
    "# Response Variable or Target\n",
    "y = pd.DataFrame(new_films, columns=['USD_Worldwide_Gross'])"
   ]
  },
  {
   "cell_type": "code",
   "execution_count": null,
   "metadata": {
    "colab": {
     "base_uri": "https://localhost:8080/",
     "height": 34
    },
    "id": "fNA3b0qQKWNI",
    "outputId": "7788d69c-23c6-4429-eaff-31df80cd9618"
   },
   "outputs": [],
   "source": [
    "# Find the best-fit line\n",
    "regression.fit(X, y)"
   ]
  },
  {
   "cell_type": "code",
   "execution_count": null,
   "metadata": {
    "colab": {
     "base_uri": "https://localhost:8080/",
     "height": 34
    },
    "id": "lcsgGhlNK_m4",
    "outputId": "e3cbf387-3a1c-4d0c-de12-d2858e76f72c"
   },
   "outputs": [],
   "source": [
    "# Theta zero\n",
    "regression.intercept_"
   ]
  },
  {
   "cell_type": "code",
   "execution_count": null,
   "metadata": {
    "colab": {
     "base_uri": "https://localhost:8080/",
     "height": 34
    },
    "id": "5oHziESRLPQX",
    "outputId": "0da31c83-15b3-424c-9aec-8c26004a3bd1"
   },
   "outputs": [],
   "source": [
    "# Theta one\n",
    "regression.coef_"
   ]
  },
  {
   "cell_type": "code",
   "execution_count": null,
   "metadata": {
    "colab": {
     "base_uri": "https://localhost:8080/",
     "height": 34
    },
    "id": "T945GX05LSov",
    "outputId": "6a475c5c-14d7-4563-adec-ed1bea72f1c4"
   },
   "outputs": [],
   "source": [
    "# R-squared\n",
    "regression.score(X, y)"
   ]
  },
  {
   "cell_type": "markdown",
   "metadata": {
    "id": "o23E9iT1RHQ1"
   },
   "source": [
    "**Challenge**: Run a linear regression for the `old_films`. Calculate the intercept, slope and r-squared. How much of the variance in movie revenue does the linear model explain in this case?"
   ]
  },
  {
   "cell_type": "code",
   "execution_count": null,
   "metadata": {
    "colab": {
     "base_uri": "https://localhost:8080/",
     "height": 68
    },
    "id": "pQrh6TMxOuDj",
    "outputId": "bfdd0e2e-d409-43b9-985b-27cb3f7672d9"
   },
   "outputs": [],
   "source": [
    "X = pd.DataFrame(old_films, columns=['USD_Production_Budget'])\n",
    "y = pd.DataFrame(old_films, columns=['USD_Worldwide_Gross'])\n",
    "regression.fit(X, y)\n",
    "print(f'The slope coefficient is: {regression.coef_[0]}')\n",
    "print(f'The intercept is: {regression.intercept_[0]}')\n",
    "print(f'The r-squared is: {regression.score(X, y)}')"
   ]
  },
  {
   "cell_type": "markdown",
   "metadata": {
    "id": "QFqKezSf0EVv"
   },
   "source": [
    "# Use Your Model to Make a Prediction\n",
    "\n",
    "We just estimated the slope and intercept! Remember that our Linear Model has the following form:\n",
    "\n",
    "$$ REV \\hat ENUE = \\theta _0 + \\theta _1 BUDGET$$\n",
    "\n",
    "**Challenge**:  How much global revenue does our model estimate for a film with a budget of $350 million? "
   ]
  },
  {
   "cell_type": "code",
   "execution_count": null,
   "metadata": {
    "colab": {
     "base_uri": "https://localhost:8080/",
     "height": 34
    },
    "id": "lo4WSVka2txp",
    "outputId": "196fdeba-9962-431e-a3ef-77d2c1731663"
   },
   "outputs": [],
   "source": [
    "22821538 + 1.64771314 * 350000000"
   ]
  },
  {
   "cell_type": "code",
   "execution_count": null,
   "metadata": {
    "colab": {
     "base_uri": "https://localhost:8080/",
     "height": 34
    },
    "id": "ygKsLBx5Rs7t",
    "outputId": "8e0fa2d8-992b-4d0a-9aa8-479360640b56"
   },
   "outputs": [],
   "source": [
    "budget = 350000000\n",
    "revenue_estimate = regression.intercept_[0] + regression.coef_[0,0]*budget\n",
    "revenue_estimate = round(revenue_estimate, -6)\n",
    "print(f'The estimated revenue for a $350 film is around ${revenue_estimate:.10}.')"
   ]
  }
 ],
 "metadata": {
  "colab": {
   "name": "Seaborn and Linear Regression (complete).ipynb",
   "provenance": [],
   "toc_visible": true
  },
  "kernelspec": {
   "display_name": "Python 3 (ipykernel)",
   "language": "python",
   "name": "python3"
  },
  "language_info": {
   "codemirror_mode": {
    "name": "ipython",
    "version": 3
   },
   "file_extension": ".py",
   "mimetype": "text/x-python",
   "name": "python",
   "nbconvert_exporter": "python",
   "pygments_lexer": "ipython3",
   "version": "3.10.5"
  }
 },
 "nbformat": 4,
 "nbformat_minor": 1
}
