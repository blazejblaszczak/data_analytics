{
 "cells": [
  {
   "cell_type": "markdown",
   "metadata": {
    "id": "4q6Z8m5n63db"
   },
   "source": [
    "# Setup and Context\n",
    "\n",
    "<img src=\"https://i.imgur.com/gugIA5r.png\" width=700>"
   ]
  },
  {
   "cell_type": "markdown",
   "metadata": {
    "dc": {
     "key": "13f090f9f0"
    },
    "id": "IGsVeQXb63dd",
    "run_control": {
     "frozen": true
    },
    "tags": [
     "context"
    ]
   },
   "source": [
    "### Introduction\n",
    "\n",
    "Dr Ignaz Semmelweis was a Hungarian physician born in 1818 who worked in the Vienna General Hospital. In the past people thought of illness as caused by \"bad air\" or evil spirits. But in the 1800s Doctors started looking more at anatomy, doing autopsies and started making arguments based on data. Dr Semmelweis suspected that something was going wrong with the procedures at Vienna General Hospital. Semmelweis wanted to figure out why so many women in maternity wards were dying from childbed fever (i.e., [puerperal fever](https://en.wikipedia.org/wiki/Postpartum_infections)).\n",
    "\n",
    "Today you will become Dr Semmelweis. This is your office 👆. You will step into Dr Semmelweis' shoes and analyse the same data collected from 1841 to 1849."
   ]
  },
  {
   "cell_type": "markdown",
   "metadata": {
    "id": "bafSbGVG63dd"
   },
   "source": [
    "### The Data Source\n",
    "\n",
    "Dr Semmelweis published his research in 1861. I found the scanned pages of the [full text with the original tables in German](http://www.deutschestextarchiv.de/book/show/semmelweis_kindbettfieber_1861), but an excellent [English translation can be found here](http://graphics8.nytimes.com/images/blogs/freakonomics/pdf/the%20etiology,%20concept%20and%20prophylaxis%20of%20childbed%20fever.pdf)."
   ]
  },
  {
   "cell_type": "markdown",
   "metadata": {
    "id": "nF_Ci_SA63dd"
   },
   "source": [
    "### Import Statements"
   ]
  },
  {
   "cell_type": "code",
   "execution_count": null,
   "metadata": {
    "id": "kNoOuCg563de"
   },
   "outputs": [],
   "source": [
    "import pandas as pd\n",
    "import numpy as np\n",
    "import plotly.express as px\n",
    "import seaborn as sns\n",
    "import matplotlib.pyplot as plt\n",
    "import matplotlib.dates as mdates\n",
    "\n",
    "import scipy.stats as stats"
   ]
  },
  {
   "cell_type": "markdown",
   "metadata": {
    "id": "PcWO2FOi63di"
   },
   "source": [
    "### Notebook Presentation"
   ]
  },
  {
   "cell_type": "code",
   "execution_count": null,
   "metadata": {
    "id": "YV7Y4mhp63dj"
   },
   "outputs": [],
   "source": [
    "pd.options.display.float_format = '{:,.2f}'.format\n",
    "\n",
    "# Create locators for ticks on the time axis\n",
    "years = mdates.YearLocator()\n",
    "months = mdates.MonthLocator()\n",
    "years_fmt = mdates.DateFormatter('%Y')\n",
    "\n",
    "# Register date converters to avoid warning messages\n",
    "from pandas.plotting import register_matplotlib_converters\n",
    "register_matplotlib_converters()"
   ]
  },
  {
   "cell_type": "markdown",
   "metadata": {
    "id": "rp8Dqfp663dg"
   },
   "source": [
    "### Read the Data"
   ]
  },
  {
   "cell_type": "code",
   "execution_count": null,
   "metadata": {
    "id": "Wdr6_0pk63dh"
   },
   "outputs": [],
   "source": [
    "df_yearly = pd.read_csv('annual_deaths_by_clinic.csv')\n",
    "# parse_dates avoids DateTime conversion later\n",
    "df_monthly = pd.read_csv('monthly_deaths.csv', \n",
    "                      parse_dates=['date'])"
   ]
  },
  {
   "cell_type": "markdown",
   "metadata": {
    "id": "C8ZLkXkk63dl"
   },
   "source": [
    "# Preliminary Data Exploration\n",
    "\n",
    "**Challenge**: Check out these two DataFrames ☝️. \n",
    "* What is the shape of df_yearly and df_monthly? How many rows and columns?\n",
    "* What are the column names?\n",
    "* Which years are included in the dataset?\n",
    "* Are there any NaN values or duplicates?\n",
    "* What were the average number of births that took place per month?\n",
    "* What were the average number of deaths that took place per month?"
   ]
  },
  {
   "cell_type": "code",
   "execution_count": null,
   "metadata": {
    "colab": {
     "base_uri": "https://localhost:8080/",
     "height": 438
    },
    "dc": {
     "key": "13f090f9f0"
    },
    "id": "CDP6tKfS63dl",
    "outputId": "250a5558-04fa-4dec-b214-93f7a0c03154",
    "tags": [
     "sample_code"
    ]
   },
   "outputs": [],
   "source": [
    "print(df_yearly.shape)\n",
    "df_yearly"
   ]
  },
  {
   "cell_type": "code",
   "execution_count": null,
   "metadata": {
    "colab": {
     "base_uri": "https://localhost:8080/",
     "height": 221
    },
    "id": "9DDzxUCi63do",
    "outputId": "c9b25e6d-81e9-4675-df61-053f0b23d2cd"
   },
   "outputs": [],
   "source": [
    "print(df_monthly.shape)\n",
    "df_monthly.tail()"
   ]
  },
  {
   "cell_type": "markdown",
   "metadata": {
    "id": "yiZF9Tat63dq"
   },
   "source": [
    "### Check for Nan Values and Duplicates"
   ]
  },
  {
   "cell_type": "code",
   "execution_count": null,
   "metadata": {
    "colab": {
     "base_uri": "https://localhost:8080/",
     "height": 204
    },
    "id": "xsI_3eMt63dq",
    "outputId": "36dd0e0b-d14b-4604-edc3-99fbf0c3af80"
   },
   "outputs": [],
   "source": [
    "df_yearly.info()"
   ]
  },
  {
   "cell_type": "code",
   "execution_count": null,
   "metadata": {
    "colab": {
     "base_uri": "https://localhost:8080/",
     "height": 187
    },
    "id": "_xSPIm3e63ds",
    "outputId": "39ee9d79-86db-4685-fb13-b1ebf4e656e4"
   },
   "outputs": [],
   "source": [
    "df_monthly.info()"
   ]
  },
  {
   "cell_type": "code",
   "execution_count": null,
   "metadata": {
    "colab": {
     "base_uri": "https://localhost:8080/",
     "height": 51
    },
    "id": "ZpdI69C363dv",
    "outputId": "f3291a86-efc0-45d0-9dbf-31a6857fb27e"
   },
   "outputs": [],
   "source": [
    "# Alternative to using .info()\n",
    "print(f'Any yearly NaN values? {df_monthly.isna().values.any()}')\n",
    "print(f'Any monthly NaN values? {df_yearly.isna().values.any()}')"
   ]
  },
  {
   "cell_type": "code",
   "execution_count": null,
   "metadata": {
    "colab": {
     "base_uri": "https://localhost:8080/",
     "height": 51
    },
    "id": "xqml3Hyq63dx",
    "outputId": "b3c71005-f209-4062-f41b-4c9ac47f68fa"
   },
   "outputs": [],
   "source": [
    "print(f'Any yearly duplicates? {df_yearly.duplicated().values.any()}')\n",
    "print(f'Any monthly duplicates? {df_monthly.duplicated().values.any()}')"
   ]
  },
  {
   "cell_type": "markdown",
   "metadata": {
    "id": "Y6RkTaM463dz"
   },
   "source": [
    "### Descriptive Statistics"
   ]
  },
  {
   "cell_type": "code",
   "execution_count": null,
   "metadata": {
    "colab": {
     "base_uri": "https://localhost:8080/",
     "height": 297
    },
    "id": "V-xqaA4Y63dz",
    "outputId": "10e3e56b-a476-4f36-b4d4-65a2bf03ef7d"
   },
   "outputs": [],
   "source": [
    "df_yearly.describe()"
   ]
  },
  {
   "cell_type": "code",
   "execution_count": null,
   "metadata": {
    "colab": {
     "base_uri": "https://localhost:8080/",
     "height": 297
    },
    "id": "EsTnxzRr63d1",
    "outputId": "5304ad67-cd3d-4bad-d718-4e8eba22ade5"
   },
   "outputs": [],
   "source": [
    "df_monthly.describe()"
   ]
  },
  {
   "cell_type": "markdown",
   "metadata": {
    "id": "RzhICI3I63d3"
   },
   "source": [
    "### Percentage of Women Dying in Childbirth\n",
    "\n",
    "**Challenge**: How dangerous was childbirth in the 1840s in Vienna? \n",
    "\n",
    "* Using the annual data, calculate the percentage of women giving birth who died throughout the 1840s at the hospital.\n",
    "\n",
    "\n",
    "In comparison, the United States recorded 18.5 maternal deaths per 100,000 or 0.018% in 2013 [(source).](\n",
    "https://en.wikipedia.org/wiki/Maternal_death#:~:text=The%20US%20has%20the%20%22highest,17.8%20per%20100%2C000%20in%202009)"
   ]
  },
  {
   "cell_type": "code",
   "execution_count": null,
   "metadata": {
    "colab": {
     "base_uri": "https://localhost:8080/",
     "height": 34
    },
    "id": "3iVMFUvP63d3",
    "outputId": "44f92cee-a03c-4d28-952f-eaa5eda181ac"
   },
   "outputs": [],
   "source": [
    "prob = df_yearly.deaths.sum() / df_yearly.births.sum() * 100\n",
    "print(f'Chances of dying in the 1840s in Vienna: {prob:.3}%')"
   ]
  },
  {
   "cell_type": "markdown",
   "metadata": {
    "id": "SSOrUkmx63d6"
   },
   "source": [
    "# Visualise the Total Number of Births 🤱 and Deaths 💀 over Time"
   ]
  },
  {
   "cell_type": "markdown",
   "metadata": {
    "id": "z88_SbNf63d6"
   },
   "source": [
    "### Plot the Monthly Data on Twin Axes\n",
    "\n",
    "**Challenge**: Create a [Matplotlib chart](https://matplotlib.org/3.3.2/api/_as_gen/matplotlib.pyplot.plot.html) with twin y-axes. It should look something like this:\n",
    "\n",
    "<img src=https://i.imgur.com/F9DOJxx.png width=700>\n",
    "\n",
    "* Format the x-axis using locators for the years and months (Hint: we did this in the Google Trends notebook)\n",
    "* Set the range on the x-axis so that the chart lines touch the y-axes\n",
    "* Add gridlines\n",
    "* Use `skyblue` and `crimson` for the line colours\n",
    "* Use a dashed line style for the number of deaths\n",
    "* Change the line thickness to 3 and 2 for the births and deaths respectively. \n",
    "* Do you notice anything in the late 1840s?"
   ]
  },
  {
   "cell_type": "code",
   "execution_count": null,
   "metadata": {
    "colab": {
     "base_uri": "https://localhost:8080/",
     "height": 468
    },
    "id": "UlhiQ0g5JDHS",
    "outputId": "3c80b29b-78db-4143-a373-82b5a5cce2df"
   },
   "outputs": [],
   "source": [
    "plt.figure(figsize=(14,8), dpi=200)\n",
    "plt.title('Total Number of Monthly Births and Deaths', fontsize=18)\n",
    "\n",
    "ax1 = plt.gca()\n",
    "ax2 = ax1.twinx()\n",
    "\n",
    "ax1.grid(color='grey', linestyle='--')\n",
    "\n",
    "ax1.plot(df_monthly.date, \n",
    "         df_monthly.births, \n",
    "         color='skyblue', \n",
    "         linewidth=3)\n",
    "\n",
    "ax2.plot(df_monthly.date, \n",
    "         df_monthly.deaths, \n",
    "         color='crimson', \n",
    "         linewidth=2, \n",
    "         linestyle='--')\n",
    "\n",
    "plt.show()"
   ]
  },
  {
   "cell_type": "code",
   "execution_count": null,
   "metadata": {
    "colab": {
     "base_uri": "https://localhost:8080/",
     "height": 464
    },
    "id": "87ZtrFOD63d7",
    "outputId": "daf4cb62-d549-4733-8746-ad76e0526702"
   },
   "outputs": [],
   "source": [
    "plt.figure(figsize=(14,8), dpi=200)\n",
    "plt.title('Total Number of Monthly Births and Deaths', fontsize=18)\n",
    "plt.yticks(fontsize=14)\n",
    "plt.xticks(fontsize=14, rotation=45)\n",
    "\n",
    "ax1 = plt.gca()\n",
    "ax2 = ax1.twinx()\n",
    "\n",
    "ax1.set_ylabel('Births', color='skyblue', fontsize=18)\n",
    "ax2.set_ylabel('Deaths', color='crimson', fontsize=18)\n",
    "\n",
    "# Add locators for tick marks\n",
    "ax1.set_xlim([df_monthly.date.min(), df_monthly.date.max()])\n",
    "ax1.xaxis.set_major_locator(years)\n",
    "ax1.xaxis.set_major_formatter(years_fmt)\n",
    "ax1.xaxis.set_minor_locator(months)\n",
    "\n",
    "ax1.grid(color='grey', linestyle='--')\n",
    "\n",
    "ax1.plot(df_monthly.date, \n",
    "         df_monthly.births, \n",
    "         color='skyblue', \n",
    "         linewidth=3)\n",
    "\n",
    "ax2.plot(df_monthly.date, \n",
    "         df_monthly.deaths, \n",
    "         color='crimson', \n",
    "         linewidth=2, \n",
    "         linestyle='--')\n",
    "\n",
    "plt.show()"
   ]
  },
  {
   "cell_type": "markdown",
   "metadata": {
    "id": "mpg4uvsl63d9"
   },
   "source": [
    "# The Yearly Data Split by Clinic\n",
    "\n",
    "Now let's look at the annual data instead. \n",
    "\n",
    "**Challenge**: Use plotly to create line charts of the births and deaths of the two different clinics at the Vienna General Hospital. \n",
    "* Which clinic is bigger or more busy judging by the number of births?\n",
    "* Has the hospital had more patients over time? \n",
    "* What was the highest number of deaths recorded in clinic 1 and clinic 2?"
   ]
  },
  {
   "cell_type": "code",
   "execution_count": null,
   "metadata": {
    "colab": {
     "base_uri": "https://localhost:8080/",
     "height": 542
    },
    "id": "0P_OKCU563d9",
    "outputId": "bcb6869e-dd6e-439d-f09e-0a316e8bb778"
   },
   "outputs": [],
   "source": [
    "line = px.line(df_yearly, \n",
    "               x='year', \n",
    "               y='births',\n",
    "               color='clinic',\n",
    "               title='Total Yearly Births by Clinic')\n",
    "\n",
    "line.show()"
   ]
  },
  {
   "cell_type": "code",
   "execution_count": null,
   "metadata": {
    "colab": {
     "base_uri": "https://localhost:8080/",
     "height": 542
    },
    "id": "kJQl0Mtk63eB",
    "outputId": "46803227-3586-4bab-cdd9-ce3b129fcb33"
   },
   "outputs": [],
   "source": [
    "line = px.line(df_yearly, \n",
    "               x='year', \n",
    "               y='deaths',\n",
    "               color='clinic',\n",
    "               title='Total Yearly Deaths by Clinic')\n",
    "\n",
    "line.show()"
   ]
  },
  {
   "cell_type": "markdown",
   "metadata": {
    "dc": {
     "key": "2bc9206960"
    },
    "id": "0M63EmW563eE",
    "run_control": {
     "frozen": true
    },
    "tags": [
     "context"
    ]
   },
   "source": [
    "### Calculate the Proportion of Deaths at Each Clinic"
   ]
  },
  {
   "cell_type": "markdown",
   "metadata": {
    "id": "SWnxkKx963eE"
   },
   "source": [
    "**Challenge**: Calculate the proportion of maternal deaths per clinic. That way we can compare like with like. \n",
    "* Work out the percentage of deaths for each row in the `df_yearly` DataFrame by adding a column called \"pct_deaths\". \n",
    "* Calculate the average maternal death rate for clinic 1 and clinic 2 (i.e., the total number of deaths per the total number of births).\n",
    "* Create another plotly line chart to see how the percentage varies year over year with the two different clinics.\n",
    "* Which clinic has a higher proportion of deaths?\n",
    "* What is the highest monthly death rate in clinic 1 compared to clinic 2?"
   ]
  },
  {
   "cell_type": "code",
   "execution_count": null,
   "metadata": {
    "colab": {
     "base_uri": "https://localhost:8080/",
     "height": 421
    },
    "id": "ljeKV-_L63eF",
    "outputId": "a80335fd-1874-46e6-b9bc-3deafc9ecf46"
   },
   "outputs": [],
   "source": [
    "df_yearly['pct_deaths'] = df_yearly.deaths / df_yearly.births\n",
    "df_yearly"
   ]
  },
  {
   "cell_type": "code",
   "execution_count": null,
   "metadata": {
    "colab": {
     "base_uri": "https://localhost:8080/",
     "height": 34
    },
    "dc": {
     "key": "45ea098e15"
    },
    "id": "7lGSyjAo63eG",
    "outputId": "4829d35a-4fef-486d-a810-8170ac90c9d2",
    "tags": [
     "sample_code"
    ]
   },
   "outputs": [],
   "source": [
    "clinic_1 = df_yearly[df_yearly.clinic == 'clinic 1']\n",
    "avg_c1 = clinic_1.deaths.sum() / clinic_1.births.sum() * 100\n",
    "print(f'Average death rate in clinic 1 is {avg_c1:.3}%.')"
   ]
  },
  {
   "cell_type": "code",
   "execution_count": null,
   "metadata": {
    "colab": {
     "base_uri": "https://localhost:8080/",
     "height": 34
    },
    "id": "A_vmbMIu63eL",
    "outputId": "aeba4ad5-5e77-45c4-fd4d-bb85764cc902"
   },
   "outputs": [],
   "source": [
    "clinic_2 = df_yearly[df_yearly.clinic == 'clinic 2']\n",
    "avg_c2 = clinic_2.deaths.sum() / clinic_2.births.sum() * 100\n",
    "print(f'Average death rate in clinic 2 is {avg_c2:.3}%.')"
   ]
  },
  {
   "cell_type": "markdown",
   "metadata": {
    "id": "sX47nwJMRxWR"
   },
   "source": [
    "### Plotting the Proportion of Yearly Deaths by Clinic"
   ]
  },
  {
   "cell_type": "code",
   "execution_count": null,
   "metadata": {
    "colab": {
     "base_uri": "https://localhost:8080/",
     "height": 542
    },
    "id": "yGXL136o63eP",
    "outputId": "329f7aaa-eff6-4e2e-a437-c895dc4a1243"
   },
   "outputs": [],
   "source": [
    "line = px.line(df_yearly, \n",
    "               x='year', \n",
    "               y='pct_deaths',\n",
    "               color='clinic',\n",
    "               title='Proportion of Yearly Deaths by Clinic')\n",
    "\n",
    "line.show()"
   ]
  },
  {
   "cell_type": "markdown",
   "metadata": {
    "dc": {
     "key": "518e95acc5"
    },
    "id": "ggep-emG63eX",
    "run_control": {
     "frozen": true
    },
    "tags": [
     "context"
    ]
   },
   "source": [
    "# The Effect of Handwashing\n",
    "\n",
    "Dr Semmelweis made handwashing obligatory in the summer of 1947. In fact, he ordered people to wash their hands with clorine (instead of water)."
   ]
  },
  {
   "cell_type": "code",
   "execution_count": null,
   "metadata": {
    "id": "QFN7gYTD63eX"
   },
   "outputs": [],
   "source": [
    "# Date when handwashing was made mandatory\n",
    "handwashing_start = pd.to_datetime('1847-06-01')"
   ]
  },
  {
   "cell_type": "markdown",
   "metadata": {
    "id": "xzsKlZ8CSNkM"
   },
   "source": [
    "**Challenge**: \n",
    "* Add a column called \"pct_deaths\" to `df_monthly` that has the percentage of deaths per birth for each row. \n",
    "* Create two subsets from the `df_monthly` data: before and after Dr Semmelweis ordered washing hand.\n",
    "* Calculate the average death rate prior to June 1947.\n",
    "* Calculate the average death rate after June 1947."
   ]
  },
  {
   "cell_type": "code",
   "execution_count": null,
   "metadata": {
    "dc": {
     "key": "0c9fdbf550"
    },
    "id": "kevWjd2063eV",
    "tags": [
     "sample_code"
    ]
   },
   "outputs": [],
   "source": [
    "df_monthly['pct_deaths'] = df_monthly.deaths/df_monthly.births"
   ]
  },
  {
   "cell_type": "code",
   "execution_count": null,
   "metadata": {
    "id": "kbzAMCy463eZ"
   },
   "outputs": [],
   "source": [
    "# Split monthly into before and after handwashing_start\n",
    "before_washing = df_monthly[df_monthly.date < handwashing_start]\n",
    "after_washing = df_monthly[df_monthly.date >= handwashing_start]"
   ]
  },
  {
   "cell_type": "code",
   "execution_count": null,
   "metadata": {
    "colab": {
     "base_uri": "https://localhost:8080/",
     "height": 51
    },
    "id": "cSpxcf6v63eb",
    "outputId": "6bd80160-1677-439f-8eff-a329079eb513"
   },
   "outputs": [],
   "source": [
    "bw_rate = before_washing.deaths.sum() / before_washing.births.sum() * 100\n",
    "aw_rate = after_washing.deaths.sum() / after_washing.births.sum() * 100\n",
    "print(f'Average death rate before 1847 was {bw_rate:.4}%')\n",
    "print(f'Average death rate AFTER 1847 was {aw_rate:.3}%')"
   ]
  },
  {
   "cell_type": "markdown",
   "metadata": {
    "id": "BgX_WAt0rcmf"
   },
   "source": [
    "### Calculate a Rolling Average of the Death Rate"
   ]
  },
  {
   "cell_type": "markdown",
   "metadata": {
    "id": "q8oeZj6kpZFl"
   },
   "source": [
    "**Challenge**: Create a DataFrame that has the 6 month rolling average death rate prior to mandatory handwashing.\n",
    "\n",
    "*Hint*: You'll need to set the dates as the index in order to avoid the date column being dropped during the calculation."
   ]
  },
  {
   "cell_type": "code",
   "execution_count": null,
   "metadata": {
    "colab": {
     "base_uri": "https://localhost:8080/",
     "height": 450
    },
    "id": "vjLRr74R63ed",
    "outputId": "39304a7d-b337-431f-c5f0-fb7dabd63314"
   },
   "outputs": [],
   "source": [
    "# Convert Date Column to Index first so does not get dropped\n",
    "roll_df = before_washing.set_index('date')\n",
    "roll_df = roll_df.rolling(window=6).mean()\n",
    "roll_df"
   ]
  },
  {
   "cell_type": "markdown",
   "metadata": {
    "id": "nLoDpnv8SzQH"
   },
   "source": [
    "### Highlighting Subsections of a Line Chart\n",
    "\n",
    "**Challenge**: Copy-paste and then modify the Matplotlib chart from before to plot the monthly death rates (instead of the total number of births and deaths). The chart should look something like this:\n",
    "\n",
    "<img src=https://i.imgur.com/X6TQe0R.png width=500>\n",
    "\n",
    "* Add 3 seperate lines to the plot: the death rate before handwashing, after handwashing, and the 6-month moving average before handwashing.\n",
    "* Show the monthly death rate before handwashing as a thin dashed black line. \n",
    "* Show the moving average as a thicker, crimon line.\n",
    "* Show the rate after handwashing as a skyblue line with round markers. \n",
    "* Look at the [code snippet in the documentation to see how you can add a legend](https://matplotlib.org/3.1.1/api/_as_gen/matplotlib.pyplot.legend.html) to the chart."
   ]
  },
  {
   "cell_type": "code",
   "execution_count": null,
   "metadata": {
    "colab": {
     "base_uri": "https://localhost:8080/",
     "height": 482
    },
    "id": "v38r5ohM63ee",
    "outputId": "1af16b57-9eb4-4c66-80ca-ec5993816204"
   },
   "outputs": [],
   "source": [
    "plt.figure(figsize=(14,8), dpi=200)\n",
    "plt.title('Percentage of Monthly Deaths over Time', fontsize=18)\n",
    "plt.yticks(fontsize=14)\n",
    "plt.xticks(fontsize=14, rotation=45)\n",
    "\n",
    "plt.ylabel('Percentage of Deaths', color='crimson', fontsize=18)\n",
    "\n",
    "ax = plt.gca()\n",
    "ax.xaxis.set_major_locator(years)\n",
    "ax.xaxis.set_major_formatter(years_fmt)\n",
    "ax.xaxis.set_minor_locator(months)\n",
    "ax.set_xlim([df_monthly.date.min(), df_monthly.date.max()])\n",
    "\n",
    "plt.grid(color='grey', linestyle='--')\n",
    "\n",
    "ma_line, = plt.plot(roll_df.index, \n",
    "                    roll_df.pct_deaths, \n",
    "                    color='crimson', \n",
    "                    linewidth=3, \n",
    "                    linestyle='--',\n",
    "                    label='6m Moving Average')\n",
    "bw_line, = plt.plot(before_washing.date, \n",
    "                    before_washing.pct_deaths,\n",
    "                    color='black', \n",
    "                    linewidth=1, \n",
    "                    linestyle='--', \n",
    "                    label='Before Handwashing')\n",
    "aw_line, = plt.plot(after_washing.date, \n",
    "                    after_washing.pct_deaths, \n",
    "                    color='skyblue', \n",
    "                    linewidth=3, \n",
    "                    marker='o',\n",
    "                    label='After Handwashing')\n",
    "\n",
    "plt.legend(handles=[ma_line, bw_line, aw_line],\n",
    "           fontsize=18)\n",
    "\n",
    "plt.show()"
   ]
  },
  {
   "cell_type": "markdown",
   "metadata": {
    "dc": {
     "key": "586a9f9803"
    },
    "id": "FPiDMwTh63el",
    "run_control": {
     "frozen": true
    },
    "tags": [
     "context"
    ]
   },
   "source": [
    "### Statistics - Calculate the Difference in the Average Monthly Death Rate\n",
    "\n",
    "**Challenge**:\n",
    "* What was the average percentage of monthly deaths before handwashing? \n",
    "* What was the average percentage of monthly deaths after handwashing was made obligatory?\n",
    "* By how much did handwashing reduce the average chance of dying in childbirth in percentage terms?\n",
    "* How do these numbers compare to the average for all the 1840s that we calculated earlier? \n",
    "* How many times lower are the chances of dying after handwashing compared to before?"
   ]
  },
  {
   "cell_type": "code",
   "execution_count": null,
   "metadata": {
    "colab": {
     "base_uri": "https://localhost:8080/",
     "height": 85
    },
    "dc": {
     "key": "586a9f9803"
    },
    "id": "1fXRpTo263el",
    "outputId": "01738cd4-b42d-4c35-c324-2b32877d8cac",
    "tags": [
     "sample_code"
    ]
   },
   "outputs": [],
   "source": [
    "avg_prob_before = before_washing.pct_deaths.mean() * 100\n",
    "print(f'Chance of death during childbirth before handwashing: {avg_prob_before:.3}%.')\n",
    "\n",
    "avg_prob_after = after_washing.pct_deaths.mean() * 100\n",
    "print(f'Chance of death during childbirth AFTER handwashing: {avg_prob_after:.3}%.')\n",
    "\n",
    "mean_diff = avg_prob_before - avg_prob_after\n",
    "print(f'Handwashing reduced the monthly proportion of deaths by {mean_diff:.3}%!')\n",
    "\n",
    "times = avg_prob_before / avg_prob_after\n",
    "print(f'This is a {times:.2}x improvement!')"
   ]
  },
  {
   "cell_type": "markdown",
   "metadata": {
    "id": "oqBw_uL963eh"
   },
   "source": [
    "### Use Box Plots to Show How the Death Rate Changed Before and After Handwashing\n",
    "\n",
    "**Challenge**: \n",
    "* Use [NumPy's `.where()` function](https://numpy.org/doc/stable/reference/generated/numpy.where.html) to add a column to `df_monthly` that shows if a particular date was before or after the start of handwashing. \n",
    "* Then use plotly to create box plot of the data before and after handwashing. \n",
    "* How did key statistics like the mean, max, min, 1st and 3rd quartile changed as a result of the new policy?\n",
    "\n"
   ]
  },
  {
   "cell_type": "code",
   "execution_count": null,
   "metadata": {
    "id": "IL36_JKL63eh"
   },
   "outputs": [],
   "source": [
    "# NumPy .where() method\n",
    "df_monthly['washing_hands'] = np.where(df_monthly.date < handwashing_start, 'No', 'Yes')"
   ]
  },
  {
   "cell_type": "code",
   "execution_count": null,
   "metadata": {
    "colab": {
     "base_uri": "https://localhost:8080/",
     "height": 542
    },
    "id": "d6eBupah63ej",
    "outputId": "308ff84e-1902-4534-ccca-14d3bd4c4866"
   },
   "outputs": [],
   "source": [
    "box = px.box(df_monthly, \n",
    "             x='washing_hands', \n",
    "             y='pct_deaths',\n",
    "             color='washing_hands',\n",
    "             title='How Have the Stats Changed with Handwashing?')\n",
    "\n",
    "box.update_layout(xaxis_title='Washing Hands?',\n",
    "                  yaxis_title='Percentage of Monthly Deaths',)\n",
    "\n",
    "box.show()"
   ]
  },
  {
   "cell_type": "markdown",
   "metadata": {
    "id": "7CPfSdgt63en"
   },
   "source": [
    "### Use Histograms to Visualise the Monthly Distribution of Outcomes\n",
    "\n",
    "**Challenge**: Create a [plotly histogram](https://plotly.com/python/histograms/) to show the monthly percentage of deaths. \n",
    "\n",
    "* Use docs to check out the available parameters. Use the [`color` parameter](https://plotly.github.io/plotly.py-docs/generated/plotly.express.histogram.html) to display two overlapping histograms.\n",
    "* The time period of handwashing is shorter than not handwashing. Change `histnorm` to `percent` to make the time periods comparable. \n",
    "* Make the histograms slighlty transparent\n",
    "* Experiment with the number of bins on the histogram. Which number work well in communicating the range of outcomes?\n",
    "* Just for fun, display your box plot on the top of the histogram using the `marginal` parameter. "
   ]
  },
  {
   "cell_type": "code",
   "execution_count": null,
   "metadata": {
    "colab": {
     "base_uri": "https://localhost:8080/",
     "height": 542
    },
    "id": "vIQ-BcMQ63eo",
    "outputId": "f438b753-4dae-4dd4-a223-b0d5d235eb18"
   },
   "outputs": [],
   "source": [
    "hist = px.histogram(df_monthly, \n",
    "                   x='pct_deaths', \n",
    "                   color='washing_hands',\n",
    "                   nbins=30,\n",
    "                   opacity=0.6,\n",
    "                   barmode='overlay',\n",
    "                   histnorm='percent',\n",
    "                   marginal='box',)\n",
    "\n",
    "hist.update_layout(xaxis_title='Proportion of Monthly Deaths',\n",
    "                   yaxis_title='Count',)\n",
    "\n",
    "hist.show()"
   ]
  },
  {
   "cell_type": "markdown",
   "metadata": {
    "id": "6xEmXJWM63ep"
   },
   "source": [
    "### Use a Kernel Density Estimate (KDE) to visualise a smooth distribution\n",
    "\n",
    "**Challenge**: Use [Seaborn's `.kdeplot()`](https://seaborn.pydata.org/generated/seaborn.kdeplot.html) to create two kernel density estimates of the `pct_deaths`, one for before handwashing and one for after. \n",
    "\n",
    "* Use the `shade` parameter to give your two distributions different colours. \n",
    "* What weakness in the chart do you see when you just use the default parameters?\n",
    "* Use the `clip` parameter to address the problem. \n"
   ]
  },
  {
   "cell_type": "code",
   "execution_count": null,
   "metadata": {
    "colab": {
     "base_uri": "https://localhost:8080/",
     "height": 515
    },
    "id": "Q933MPwi8-s_",
    "outputId": "7e1bb81f-0727-4524-b04c-89b7659efa52"
   },
   "outputs": [],
   "source": [
    "plt.figure(dpi=200)\n",
    "# By default the distribution estimate includes a negative death rate!\n",
    "sns.kdeplot(before_washing.pct_deaths, shade=True)\n",
    "sns.kdeplot(after_washing.pct_deaths, shade=True)\n",
    "plt.title('Est. Distribution of Monthly Death Rate Before and After Handwashing')\n",
    "plt.show()"
   ]
  },
  {
   "cell_type": "code",
   "execution_count": null,
   "metadata": {
    "colab": {
     "base_uri": "https://localhost:8080/",
     "height": 689
    },
    "id": "KuGD-Gfm63ep",
    "outputId": "7c8cbf2c-797e-43a7-a01e-7e48431199a0"
   },
   "outputs": [],
   "source": [
    "plt.figure(dpi=200)\n",
    "sns.kdeplot(before_washing.pct_deaths, \n",
    "            shade=True,\n",
    "            clip=(0,1))\n",
    "sns.kdeplot(after_washing.pct_deaths, \n",
    "            shade=True,\n",
    "            clip=(0,1))\n",
    "plt.title('Est. Distribution of Monthly Death Rate Before and After Handwashing')\n",
    "plt.xlim(0, 0.40)\n",
    "plt.show()"
   ]
  },
  {
   "cell_type": "markdown",
   "metadata": {
    "id": "F7lNXT7X63et"
   },
   "source": [
    "### Use a T-Test to Show Statistical Significance\n",
    "\n",
    "**Challenge**: Use a t-test to determine if the differences in the means are statistically significant or purely due to chance. \n",
    "\n",
    "If the p-value is less than 1% then we can be 99% certain that handwashing has made a difference to the average monthly death rate. \n",
    "\n",
    "* Import `stats` from scipy\n",
    "* Use the [`.ttest_ind()` function](https://docs.scipy.org/]doc/scipy/reference/generated/scipy.stats.ttest_ind.html) to calculate the t-statistic and the p-value\n",
    "* Is the difference in the average proportion of monthly deaths statistically significant at the 99% level? \n",
    "\n"
   ]
  },
  {
   "cell_type": "code",
   "execution_count": null,
   "metadata": {
    "colab": {
     "base_uri": "https://localhost:8080/",
     "height": 51
    },
    "id": "1vtVE0AA63et",
    "outputId": "20aba354-8dfc-4f9a-ebcc-32763eb83051"
   },
   "outputs": [],
   "source": [
    "t_stat, p_value = stats.ttest_ind(a=before_washing.pct_deaths, \n",
    "                                  b=after_washing.pct_deaths)\n",
    "print(f'p-palue is {p_value:.10f}')\n",
    "print(f't-statstic is {t_stat:.4}')"
   ]
  }
 ],
 "metadata": {
  "colab": {
   "name": "Dr Semmelweis Handwashing Discovery (complete).ipynb",
   "provenance": [],
   "toc_visible": true
  },
  "kernelspec": {
   "display_name": "Python 3 (ipykernel)",
   "language": "python",
   "name": "python3"
  },
  "language_info": {
   "codemirror_mode": {
    "name": "ipython",
    "version": 3
   },
   "file_extension": ".py",
   "mimetype": "text/x-python",
   "name": "python",
   "nbconvert_exporter": "python",
   "pygments_lexer": "ipython3",
   "version": "3.10.5"
  }
 },
 "nbformat": 4,
 "nbformat_minor": 1
}
