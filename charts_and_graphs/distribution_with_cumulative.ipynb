{
 "cells": [
  {
   "cell_type": "code",
   "execution_count": 1,
   "id": "a1f1baa0",
   "metadata": {},
   "outputs": [],
   "source": [
    "import numpy as np\n",
    "import pandas as pd\n",
    "from matplotlib import pyplot as plt\n",
    "import seaborn as sns\n",
    "\n",
    "# set font size\n",
    "import matplotlib\n",
    "matplotlib.rcParams.update({'font.size': 12})\n",
    "\n",
    "sns.set_style('whitegrid')"
   ]
  },
  {
   "cell_type": "code",
   "execution_count": 2,
   "id": "7220518e",
   "metadata": {},
   "outputs": [],
   "source": [
    "df = pd.DataFrame(np.random.randint(0,10,size=(100, 1)), columns=['Integers'])"
   ]
  },
  {
   "cell_type": "code",
   "execution_count": 3,
   "id": "c1065944",
   "metadata": {},
   "outputs": [],
   "source": [
    "# Function for creating distribution + cumulative dist chart\n",
    "def distribution_chart(dataframe, column, xstart, xend, bin, title, xlabel, ylabel):\n",
    "  # bin_count required for left/right yticks setup on chart\n",
    "  chart_data = dataframe[column].loc[dataframe[column] <= xend]\n",
    "  bin_int = int(xend/bin)\n",
    "  bin_count = pd.cut(chart_data, np.arange(xstart, xend, bin)).value_counts()\n",
    " \n",
    "  fig, ax1 = plt.subplots(figsize=(15,5))\n",
    "\n",
    "  color = 'tab:blue'\n",
    "  ax1 = dataframe[column].plot.hist(bins=np.arange(xstart, xend, bin),\n",
    "                                    cumulative=False, density=False, color=color)\n",
    "  ax1.set_xlabel(xlabel)\n",
    "  ax1.set_ylabel(ylabel)\n",
    "  ax1.set_yticks((0, 0.2*max(bin_count), 0.4*max(bin_count), 0.6*max(bin_count), 0.8*max(bin_count), 1.0*max(bin_count)))\n",
    "  ax1.tick_params(axis='y', labelcolor=color)\n",
    "  ax1.set_title(title)\n",
    "\n",
    "  ax2 = ax1.twinx()\n",
    "\n",
    "  color = 'tab:red'\n",
    "  ax2 = dataframe[column].plot.hist(bins=np.arange(xstart, xend, bin),\n",
    "                                    cumulative=True, density=True, histtype='step', color=color)\n",
    "  ax2.set_ylabel('Cumulative Ratio from Total', color=color)\n",
    "  ax2.set_yticks((0.0, 0.2, 0.4, 0.6, 0.8, 1.0))\n",
    "  ax2.tick_params(axis='y', labelcolor=color)\n",
    "\n",
    "  plt.xlim([xstart, xend])"
   ]
  },
  {
   "cell_type": "code",
   "execution_count": 4,
   "id": "c2b5ff01",
   "metadata": {},
   "outputs": [
    {
     "data": {
      "image/png": "[encoded data removed]",
      "text/plain": [
       "<Figure size 1080x360 with 2 Axes>"
      ]
     },
     "metadata": {
      "needs_background": "light"
     },
     "output_type": "display_data"
    }
   ],
   "source": [
    "distribution_chart(df, 'Integers', 0, 11, 1, 'Integer Distribution', 'Numbers', 'Amount')"
   ]
  }
 ],
 "metadata": {
  "kernelspec": {
   "display_name": "Python 3 (ipykernel)",
   "language": "python",
   "name": "python3"
  },
  "language_info": {
   "codemirror_mode": {
    "name": "ipython",
    "version": 3
   },
   "file_extension": ".py",
   "mimetype": "text/x-python",
   "name": "python",
   "nbconvert_exporter": "python",
   "pygments_lexer": "ipython3",
   "version": "3.10.5"
  }
 },
 "nbformat": 4,
 "nbformat_minor": 5
}
