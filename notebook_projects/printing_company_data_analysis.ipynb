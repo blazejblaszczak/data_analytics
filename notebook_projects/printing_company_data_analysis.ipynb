{
 "cells": [
  {
   "cell_type": "markdown",
   "id": "12902284",
   "metadata": {},
   "source": [
    "# 1. Imports and chart setup"
   ]
  },
  {
   "cell_type": "code",
   "execution_count": null,
   "id": "1f5f382a",
   "metadata": {},
   "outputs": [],
   "source": [
    "import pandas as pd\n",
    "import numpy as np\n",
    "import matplotlib.pyplot as plt\n",
    "import seaborn as sns"
   ]
  },
  {
   "cell_type": "code",
   "execution_count": null,
   "id": "38eaf489",
   "metadata": {},
   "outputs": [],
   "source": [
    "sns.set_style(\"whitegrid\")\n",
    "sns.set(rc={'figure.figsize':(20,8)})\n",
    "sns.set(font_scale=1.5)"
   ]
  },
  {
   "cell_type": "markdown",
   "id": "53bda145",
   "metadata": {},
   "source": [
    "# 2. Data Cleaning"
   ]
  },
  {
   "cell_type": "code",
   "execution_count": null,
   "id": "d3887956",
   "metadata": {},
   "outputs": [],
   "source": [
    "# importing line_items data and changing column names to lowercase\n",
    "items = pd.read_csv('line_items.csv')\n",
    "items.columns = items.columns.str.lower()"
   ]
  },
  {
   "cell_type": "code",
   "execution_count": null,
   "id": "9d732f1f",
   "metadata": {},
   "outputs": [],
   "source": [
    "# data cleaning in items df\n",
    "items['order_id'] = items['order_id'].astype(str) # type to string\n",
    "items['print_provider_id'] = items['print_provider_id'].fillna(0).astype(int) # type to integer, NULLs changed to 0\n",
    "items['quantity'] = items['quantity'].astype(int) # type to integer\n",
    "items[\"reprint_flag\"].fillna(False,inplace=True) # type to boolean, NULLs changed to False"
   ]
  },
  {
   "cell_type": "code",
   "execution_count": null,
   "id": "78fb963e",
   "metadata": {},
   "outputs": [],
   "source": [
    "# items.head()"
   ]
  },
  {
   "cell_type": "code",
   "execution_count": null,
   "id": "39da4f10",
   "metadata": {},
   "outputs": [],
   "source": [
    "# importing orders data and changing column names to lowercase\n",
    "orders = pd.read_csv('orders.csv')\n",
    "orders.columns = orders.columns.str.lower()"
   ]
  },
  {
   "cell_type": "code",
   "execution_count": null,
   "id": "7bcaed73",
   "metadata": {},
   "outputs": [],
   "source": [
    "# data cleaning in orders df\n",
    "orders['order_id'] = orders['order_id'].astype(str) # type to string\n",
    "orders['order_dt'] = pd.to_datetime(orders['order_dt']) # type to datetime\n",
    "orders['fulfilled_dt'] = pd.to_datetime(orders['fulfilled_dt']) # type to datetime\n",
    "orders['merchant_registered_dt'] = pd.to_datetime(orders['merchant_registered_dt']) # type to datetime\n",
    "orders['shipment_delivered_at'] = pd.to_datetime(orders['shipment_delivered_at']) # type to datetime"
   ]
  },
  {
   "cell_type": "code",
   "execution_count": null,
   "id": "8e058a53",
   "metadata": {},
   "outputs": [],
   "source": [
    "# orders.head()"
   ]
  },
  {
   "cell_type": "markdown",
   "id": "3eb3c161",
   "metadata": {},
   "source": [
    "# 3. Merchants\n",
    "\n",
    "### What characteristics do the most successful merchants share?"
   ]
  },
  {
   "cell_type": "code",
   "execution_count": null,
   "id": "cdb6b354",
   "metadata": {},
   "outputs": [],
   "source": [
    "# creating merchants_data df used next for grouping\n",
    "merchants_data = orders[['merchant_id', 'order_id', 'shop_id', 'address_to_country', 'address_to_region',\n",
    "                         'sales_channel_type_id', 'total_cost']]\n",
    "merchants_data = merchants_data.drop_duplicates()"
   ]
  },
  {
   "cell_type": "code",
   "execution_count": null,
   "id": "46988347",
   "metadata": {},
   "outputs": [],
   "source": [
    "# merchants_data.head()"
   ]
  },
  {
   "cell_type": "markdown",
   "id": "ace37d5f",
   "metadata": {},
   "source": [
    "### 3.1 Boxplots for top 50 merchants characteristics"
   ]
  },
  {
   "cell_type": "code",
   "execution_count": null,
   "id": "b3cfcdb9",
   "metadata": {},
   "outputs": [],
   "source": [
    "# grouping data for each merchant in merchants_group df and selecting top 50 merchants per total sales value\n",
    "# df will be used next for creating boxplots\n",
    "merchants_group = merchants_data.groupby('merchant_id').agg(\n",
    "            orders_count = ('order_id', 'nunique'),\n",
    "            total_sales = ('total_cost', sum),\n",
    "            avg_sale = ('total_cost', 'mean'),\n",
    "            mdn_sale = ('total_cost', 'median'),\n",
    "            shops_count = ('shop_id', 'nunique'),\n",
    "            countries_count = ('address_to_country', 'nunique'),\n",
    "            regions_count = ('address_to_region', 'nunique'),\n",
    "            channels_count = ('sales_channel_type_id', 'nunique')\n",
    ")\n",
    "merchants_group['avg_sale'] = round(merchants_group['avg_sale'], 2)\n",
    "merchants_group['mdn_sale'] = round(merchants_group['mdn_sale'], 2)\n",
    "merchants_group.reset_index(inplace=True)\n",
    "merchants_group = merchants_group.sort_values(by='total_sales', ascending=False).head(50)"
   ]
  },
  {
   "cell_type": "code",
   "execution_count": null,
   "id": "6a7a5200",
   "metadata": {},
   "outputs": [],
   "source": [
    "# merchants_group.head()"
   ]
  },
  {
   "cell_type": "code",
   "execution_count": null,
   "id": "256efcad",
   "metadata": {},
   "outputs": [],
   "source": [
    "# creating boxplots for 4 different metrics as they can be shown on one chart\n",
    "\n",
    "sns.boxplot(data=merchants_group[[\"shops_count\", \"avg_sale\", \"mdn_sale\", \"countries_count\"]], orient='v', showfliers=False)\n",
    "plt.show()"
   ]
  },
  {
   "cell_type": "code",
   "execution_count": null,
   "id": "a79b09a1",
   "metadata": {
    "scrolled": false
   },
   "outputs": [],
   "source": [
    "# creating boxplot for number of regions\n",
    "\n",
    "sns.boxplot(data=merchants_group[['regions_count']], orient='v', showfliers=False)\n",
    "plt.show()"
   ]
  },
  {
   "cell_type": "markdown",
   "id": "91288b6f",
   "metadata": {},
   "source": [
    "### 3.2 Main countries and regions for top 50 merchants"
   ]
  },
  {
   "cell_type": "code",
   "execution_count": null,
   "id": "a83ee4bb",
   "metadata": {},
   "outputs": [],
   "source": [
    "# selecting for each merchant country where they sell most products. Next preparing pie chart to present data\n",
    "merchants_countries = merchants_data[['merchant_id', 'address_to_country', 'order_id']].groupby(\n",
    "                            ['merchant_id', 'address_to_country']).count()\n",
    "merchants_countries.reset_index(inplace=True)\n",
    "merchants_countries = merchants_countries.merge(merchants_group['merchant_id'], on='merchant_id')\n",
    "\n",
    "merchants_filter = merchants_countries[['merchant_id', 'order_id']].groupby('merchant_id').max()\n",
    "merchants_filter.reset_index(inplace=True)\n",
    "\n",
    "merchants_countries = merchants_countries.merge(merchants_filter, on=('merchant_id', 'order_id'))\n",
    "\n",
    "countries = merchants_countries[['address_to_country', 'order_id']].groupby('address_to_country').count()\n",
    "countries.reset_index(inplace=True)\n",
    "countries.columns = ['country', 'merchants']\n",
    "countries.sort_values(by='merchants', ascending=False, inplace=True)"
   ]
  },
  {
   "cell_type": "code",
   "execution_count": null,
   "id": "96065a73",
   "metadata": {},
   "outputs": [],
   "source": [
    "# creating pie chart for countries\n",
    "\n",
    "colors = sns.color_palette('pastel')[0:len(countries)]\n",
    "\n",
    "plt.pie(countries['merchants'], labels = countries['country'], colors = colors, autopct='%.0f%%')\n",
    "plt.title('COUNTRIES', size=20)\n",
    "plt.show()"
   ]
  },
  {
   "cell_type": "code",
   "execution_count": null,
   "id": "0c9634dc",
   "metadata": {},
   "outputs": [],
   "source": [
    "# selecting for each merchant region where they sell most products. Next preparing pie chart to present data\n",
    "merchants_regions = merchants_data[['merchant_id', 'address_to_region', 'order_id']].groupby(\n",
    "                            ['merchant_id', 'address_to_region']).count()\n",
    "merchants_regions.reset_index(inplace=True)\n",
    "merchants_regions = merchants_regions.merge(merchants_group['merchant_id'], on='merchant_id')\n",
    "\n",
    "merchants_filter = merchants_regions[['merchant_id', 'order_id']].groupby('merchant_id').max()\n",
    "merchants_filter.reset_index(inplace=True)\n",
    "\n",
    "merchants_regions = merchants_regions.merge(merchants_filter, on=('merchant_id', 'order_id'))\n",
    "\n",
    "regions = merchants_regions[['address_to_region', 'order_id']].groupby('address_to_region').count()\n",
    "regions.reset_index(inplace=True)\n",
    "regions.columns = ['region', 'merchants']\n",
    "regions.sort_values(by='merchants', ascending=False, inplace=True)"
   ]
  },
  {
   "cell_type": "code",
   "execution_count": null,
   "id": "e782c948",
   "metadata": {},
   "outputs": [],
   "source": [
    "# creating pie chart for regions\n",
    "\n",
    "colors = sns.color_palette('pastel')[0:len(regions)]\n",
    "\n",
    "plt.pie(regions['merchants'], labels = regions['region'], colors = colors, autopct='%.0f%%')\n",
    "plt.title('REGIONS', size=20)\n",
    "plt.show()"
   ]
  },
  {
   "cell_type": "markdown",
   "id": "b0ef630f",
   "metadata": {},
   "source": [
    "# 4. Shipping Carriers\n",
    "\n",
    "### What are the top two shipping carriers? Why should or shouldn’t we try to use those two for all orders?"
   ]
  },
  {
   "cell_type": "code",
   "execution_count": null,
   "id": "bf53b89a",
   "metadata": {},
   "outputs": [],
   "source": [
    "# creating carriers_data df used next for grouping\n",
    "carriers_data = orders[['shipment_carrier', 'order_id', 'total_shipping', 'fulfilled_dt', \n",
    "                        'shipment_delivered_at', 'address_to_country', 'address_to_region']]\n",
    "carriers_data = carriers_data[carriers_data['shipment_carrier'].notnull()]\n",
    "carriers_data = carriers_data.drop_duplicates()\n",
    "# calculating shipping time for each order\n",
    "carriers_data['shipping_time'] = carriers_data['shipment_delivered_at'] - carriers_data['fulfilled_dt']"
   ]
  },
  {
   "cell_type": "code",
   "execution_count": null,
   "id": "5b58878a",
   "metadata": {},
   "outputs": [],
   "source": [
    "# carriers_data.head()"
   ]
  },
  {
   "cell_type": "code",
   "execution_count": null,
   "id": "8692209e",
   "metadata": {},
   "outputs": [],
   "source": [
    "# grouping data for each carrier in carriers_group df and selecting all carriers that delivered over 100 orders\n",
    "carriers_group = carriers_data.groupby('shipment_carrier').agg(\n",
    "            orders_count = ('order_id', 'nunique'),\n",
    "            total_shipping_costs = ('total_shipping', sum),\n",
    "            avg_ship_time = ('shipping_time', 'mean'),\n",
    "            mdn_ship_time = ('shipping_time', 'median'),\n",
    "            avg_ship_cost = ('total_shipping', 'mean'),\n",
    "            mdn_ship_cost = ('total_shipping', 'median')\n",
    ")\n",
    "carriers_group['avg_ship_cost'] = round(carriers_group['avg_ship_cost'], 2)\n",
    "carriers_group['mdn_ship_cost'] = round(carriers_group['mdn_ship_cost'], 2)\n",
    "carriers_group['avg_ship_time'] = carriers_group['avg_ship_time'].round('H') # rounding to hours\n",
    "carriers_group['mdn_ship_time'] = carriers_group['mdn_ship_time'].round('H') # rounding to hours\n",
    "carriers_group.reset_index(inplace=True)\n",
    "carriers_group = carriers_group.loc[carriers_group['orders_count']>100].sort_values(by='orders_count', ascending=False)\n",
    "carriers_group.reset_index(inplace=True)"
   ]
  },
  {
   "cell_type": "code",
   "execution_count": null,
   "id": "4771ecab",
   "metadata": {
    "scrolled": false
   },
   "outputs": [],
   "source": [
    "# carriers_group.head()"
   ]
  },
  {
   "cell_type": "markdown",
   "id": "6d3a79c0",
   "metadata": {},
   "source": [
    "### 4.1 Countries and regions comparison"
   ]
  },
  {
   "cell_type": "code",
   "execution_count": null,
   "id": "2a5eef96",
   "metadata": {},
   "outputs": [],
   "source": [
    "# selecting top carriers and counting how many orders they delivered to each country\n",
    "top_carriers = carriers_group['shipment_carrier'].head(2)\n",
    "\n",
    "top_carriers_countries = carriers_data[['shipment_carrier', 'address_to_country', 'order_id']]\\\n",
    "        .merge(top_carriers, on='shipment_carrier').groupby(['shipment_carrier', 'address_to_country']).nunique()\n",
    "top_carriers_countries.reset_index(inplace=True)\n",
    "top_carriers_orders = carriers_group[['shipment_carrier', 'orders_count']].head(2)\n",
    "top_carriers_countries = top_carriers_countries.merge(top_carriers_orders, on='shipment_carrier')\n",
    "top_carriers_countries.columns = ['shipment_carrier', 'country', 'orders_to_country', 'all_orders']\n",
    "# calculating % share of orders delivered to particular country among all orders delivered by carrier\n",
    "top_carriers_countries['country_share'] = top_carriers_countries['country'] + ' (' + (round(\\\n",
    "            (top_carriers_countries['orders_to_country'] / top_carriers_countries['all_orders']) * 100, 2)).astype(str) + '%)'"
   ]
  },
  {
   "cell_type": "code",
   "execution_count": null,
   "id": "8aa4a0d0",
   "metadata": {},
   "outputs": [],
   "source": [
    "# top_carriers_countries.head()"
   ]
  },
  {
   "cell_type": "code",
   "execution_count": null,
   "id": "2f6a274b",
   "metadata": {},
   "outputs": [],
   "source": [
    "# creating bar charts for each top carrier\n",
    "\n",
    "for carrier in top_carriers:\n",
    "    \n",
    "    chart_data = top_carriers_countries.loc[top_carriers_countries['shipment_carrier']==carrier]\\\n",
    "                    .sort_values(by='orders_to_country', ascending=False)\n",
    "    \n",
    "    sns.barplot(x = 'country_share',\n",
    "            y = 'orders_to_country',\n",
    "            data = chart_data)\n",
    "    \n",
    "    plt.title(carrier, size=30)\n",
    "    plt.xticks(rotation=-90)\n",
    "    \n",
    "    plt.show()"
   ]
  },
  {
   "cell_type": "code",
   "execution_count": null,
   "id": "29ba7df8",
   "metadata": {},
   "outputs": [],
   "source": [
    "# preparing orders df without top 2 carriers\n",
    "orders_wo_top_carriers = orders[~orders['shipment_carrier'].isin(top_carriers)]"
   ]
  },
  {
   "cell_type": "code",
   "execution_count": null,
   "id": "a82dc3b0",
   "metadata": {},
   "outputs": [],
   "source": [
    "# creating countries_orders df to check how many orders were delivered to each country by carriers other than top 2\n",
    "countries_orders = orders_wo_top_carriers[['address_to_country', 'order_id']].groupby('address_to_country').nunique()\n",
    "countries_orders.reset_index(inplace=True)\n",
    "countries_orders.columns = ['country', 'orders_to_country']\n",
    "all_orders = len(orders_wo_top_carriers['order_id'].unique())\n",
    "countries_orders['country_share'] = countries_orders['country'] + ' (' + (round(\\\n",
    "            (countries_orders['orders_to_country'] / all_orders) * 100, 2)).astype(str) + '%)'\n",
    "countries_orders = countries_orders.loc[countries_orders['orders_to_country']>10]"
   ]
  },
  {
   "cell_type": "code",
   "execution_count": null,
   "id": "616d2862",
   "metadata": {
    "scrolled": false
   },
   "outputs": [],
   "source": [
    "# creating bar chart for country deliver shares without top carriers\n",
    "\n",
    "sns.barplot(x = 'country_share',\n",
    "            y = 'orders_to_country',\n",
    "            data = countries_orders.sort_values(by='orders_to_country', ascending=False))\n",
    "\n",
    "plt.title('Orders delivered by other carriers', size=30)\n",
    "plt.xticks(rotation=-90)\n",
    "plt.show()"
   ]
  },
  {
   "cell_type": "markdown",
   "id": "316665ab",
   "metadata": {},
   "source": [
    "### 4.2 Other metrics comparison"
   ]
  },
  {
   "cell_type": "code",
   "execution_count": null,
   "id": "d826baee",
   "metadata": {},
   "outputs": [],
   "source": [
    "# checking how many carriers had better and worse results in each category compared to 2 top carriers\n",
    "\n",
    "carriers_group_wo_top_carriers = carriers_group[~carriers_group['shipment_carrier'].isin(top_carriers)]\n",
    "\n",
    "metrics = ('avg_ship_time', 'mdn_ship_time', 'avg_ship_cost', 'mdn_ship_cost')\n",
    "\n",
    "for i in range(0,2):\n",
    "\n",
    "    for metric in metrics:\n",
    "\n",
    "        carriers_better = len(carriers_group_wo_top_carriers\\\n",
    "                              .loc[carriers_group_wo_top_carriers[metric]<carriers_group[metric][i]])\n",
    "\n",
    "        carriers_worse = len(carriers_group_wo_top_carriers\\\n",
    "                              .loc[carriers_group_wo_top_carriers[metric]>carriers_group[metric][i]])\n",
    "        \n",
    "        chc = 'carrier has' if carriers_better==1 else 'carriers have'\n",
    "\n",
    "        print(f\"{carriers_better} {chc} better {metric} than {carriers_group['shipment_carrier'][i]},\\n\\\n",
    "                    {carriers_worse} have worse.\")"
   ]
  },
  {
   "cell_type": "markdown",
   "id": "781f729f",
   "metadata": {},
   "source": [
    "# 5. Print Providers\n",
    "\n",
    "### Which are the two best and worst Print Providers and why?"
   ]
  },
  {
   "cell_type": "code",
   "execution_count": null,
   "id": "88ef8e42",
   "metadata": {},
   "outputs": [],
   "source": [
    "# creating df for print provider's orders, with information about destination and print time\n",
    "providers = items[['print_provider_id', 'order_id']].drop_duplicates()\n",
    "orders_providers = orders.merge(providers.loc[providers['print_provider_id']!=0], on='order_id')\n",
    "orders_providers = orders_providers[['print_provider_id', 'order_id', 'address_to_country', 'address_to_region',\n",
    "                                     'order_dt', 'fulfilled_dt']]\n",
    "orders_providers['print_time'] = orders_providers['fulfilled_dt'] - orders_providers['order_dt']"
   ]
  },
  {
   "cell_type": "code",
   "execution_count": null,
   "id": "c7285bff",
   "metadata": {},
   "outputs": [],
   "source": [
    "# orders_providers.head()"
   ]
  },
  {
   "cell_type": "code",
   "execution_count": null,
   "id": "15637d71",
   "metadata": {},
   "outputs": [],
   "source": [
    "# creating df containing important metrics grouped on print provider level\n",
    "\n",
    "# calculating how many reprints each provider had to make\n",
    "reprints = items[['print_provider_id', 'quantity']].loc[items['reprint_flag']==True].groupby('print_provider_id').sum()\n",
    "reprints.reset_index(inplace=True)\n",
    "reprints.columns = ['print_provider_id', 'reprints']\n",
    "\n",
    "# caclulating metrics on provider level\n",
    "providers_group = orders_providers.groupby('print_provider_id').agg(\n",
    "            orders_count = ('order_id', 'nunique'),\n",
    "            avg_print_time = ('print_time', 'mean'),\n",
    "            mdn_print_time = ('print_time', 'median'),\n",
    "            countries_count = ('address_to_country', 'nunique'),\n",
    "            regions_count = ('address_to_region', 'nunique')\n",
    ")\n",
    "providers_group['avg_print_time'] = providers_group['avg_print_time'].round('H')\n",
    "providers_group['mdn_print_time'] = providers_group['mdn_print_time'].round('H')\n",
    "\n",
    "# selecting only print providers that completed more than 20 orders\n",
    "providers_group = providers_group.loc[providers_group['orders_count']>20]\n",
    "providers_group.reset_index(inplace=True)\n",
    "\n",
    "# calculating medians and print percentage for the whole group to compare with individual results\n",
    "providers_group = providers_group.merge(reprints, how=\"left\", on='print_provider_id')\n",
    "providers_group['reprint_perc'] = round((providers_group['reprints'] / providers_group['orders_count'])*100, 2)\n",
    "providers_group['all_mdn_orders'] = providers_group['orders_count'].median().astype(int)\n",
    "providers_group['all_mdn_countries'] = providers_group['countries_count'].median().astype(int)\n",
    "providers_group['all_mdn_regions'] = providers_group['regions_count'].median().astype(int)\n",
    "providers_group['all_mdn_print_time'] = orders_providers['print_time'].median().round('H')\n",
    "providers_group['all_reprints_perc'] = round((reprints['reprints'].sum() / items['quantity'].sum())*100, 2)"
   ]
  },
  {
   "cell_type": "code",
   "execution_count": null,
   "id": "39d57dd3",
   "metadata": {},
   "outputs": [],
   "source": [
    "# providers_group.sort_values(by='orders_count', ascending=False).head()"
   ]
  },
  {
   "cell_type": "code",
   "execution_count": null,
   "id": "9ee0d048",
   "metadata": {},
   "outputs": [],
   "source": [
    "# creating df with print providers ranks in each category. Categories to be checked:\n",
    "# - number of orders\n",
    "# - median print time\n",
    "# - number of countries\n",
    "# - number of regions\n",
    "# - reprint percentage rate\n",
    "providers_ranked = providers_group.copy().drop(columns=['all_mdn_orders', 'all_mdn_countries', 'all_mdn_regions',\n",
    "                                                        'all_mdn_print_time', 'all_reprints_perc'])\n",
    "providers_ranked['orders_rank'] = providers_ranked['orders_count'].rank(method='min', ascending=False)\n",
    "providers_ranked['print_time_rank'] = providers_ranked['mdn_print_time'].rank(method='min', ascending=True)\n",
    "providers_ranked['countries_rank'] = providers_ranked['countries_count'].rank(method='min', ascending=False)\n",
    "providers_ranked['regions_rank'] = providers_ranked['regions_count'].rank(method='min', ascending=False)\n",
    "providers_ranked['reprint_perc'] = providers_ranked['reprint_perc']\\\n",
    "                                    .fillna(providers_group['reprint_perc'].median())\n",
    "providers_ranked['reprints_rank'] = providers_ranked['reprint_perc'].rank(method='min', ascending=True)"
   ]
  },
  {
   "cell_type": "code",
   "execution_count": null,
   "id": "37606c6e",
   "metadata": {},
   "outputs": [],
   "source": [
    "# creating list containing points which providers get for their ranks. \n",
    "# Best 20 providers in each category will receive positive points (from 20 to 1)\n",
    "# Worst 20 will receive negative points (from -1 to -20)\n",
    "rank_1_20 = [i for i in range(1,21)]\n",
    "rank_1_20 = rank_1_20[::-1]\n",
    "rank_21_40 = [0 for i in range(20)]\n",
    "rank_41_60 = [i*-1 for i in range(1,21)]\n",
    "rank_points = rank_1_20+rank_21_40+rank_41_60"
   ]
  },
  {
   "cell_type": "code",
   "execution_count": null,
   "id": "abde8e2c",
   "metadata": {},
   "outputs": [],
   "source": [
    "# creating function used for points calculation\n",
    "def calculate_points(provider):\n",
    "    \n",
    "    ranks = ['orders_rank', 'print_time_rank', 'countries_rank', 'regions_rank', 'reprints_rank']\n",
    "    \n",
    "    points = 0\n",
    "    \n",
    "    for rank in ranks:\n",
    "        data_filtered = providers_ranked.loc[providers_ranked['print_provider_id']==provider]\n",
    "        data_filtered.reset_index(inplace=True)\n",
    "        rank_value = data_filtered[rank].at[0].astype(int)\n",
    "\n",
    "        category_points = rank_points[rank_value-1]\n",
    "        points += category_points\n",
    "        \n",
    "    return points"
   ]
  },
  {
   "cell_type": "code",
   "execution_count": null,
   "id": "256f194b",
   "metadata": {},
   "outputs": [],
   "source": [
    "# creating df with print providers total points and ranks in each category\n",
    "providers = providers_ranked['print_provider_id'].to_list()\n",
    "\n",
    "d = {'print_provider_id': [], 'points': []}\n",
    "providers_points = pd.DataFrame(data=d)\n",
    "\n",
    "for provider in providers:\n",
    "    \n",
    "    provider_pts = calculate_points(provider)\n",
    "    providers_points = pd.concat([providers_points, pd.Series({'print_provider_id': provider, \n",
    "                                                               'points': provider_pts})\\\n",
    "                                  .to_frame().T], ignore_index=True)\n",
    "    \n",
    "providers_points.sort_values(by='points', ascending=False, inplace=True)\n",
    "providers_points = providers_points.merge(providers_ranked[['print_provider_id', 'orders_rank', 'print_time_rank', \n",
    "                                    'countries_rank', 'regions_rank', 'reprints_rank']], on='print_provider_id')"
   ]
  },
  {
   "cell_type": "code",
   "execution_count": null,
   "id": "dc425807",
   "metadata": {},
   "outputs": [],
   "source": [
    "# providers_points.head()"
   ]
  }
 ],
 "metadata": {
  "kernelspec": {
   "display_name": "Python 3 (ipykernel)",
   "language": "python",
   "name": "python3"
  },
  "language_info": {
   "codemirror_mode": {
    "name": "ipython",
    "version": 3
   },
   "file_extension": ".py",
   "mimetype": "text/x-python",
   "name": "python",
   "nbconvert_exporter": "python",
   "pygments_lexer": "ipython3",
   "version": "3.10.5"
  }
 },
 "nbformat": 4,
 "nbformat_minor": 5
}
